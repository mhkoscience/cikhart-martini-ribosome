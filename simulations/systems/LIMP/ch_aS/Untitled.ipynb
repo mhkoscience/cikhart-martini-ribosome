{
 "cells": [
  {
   "cell_type": "code",
   "execution_count": 8,
   "id": "f79e81c6-55f5-4456-887a-b110ee48c86c",
   "metadata": {
    "tags": []
   },
   "outputs": [
    {
     "name": "stdout",
     "output_type": "stream",
     "text": [
      "((222.39319999999998, 249.8675, 168.4921), (219.429, 252.8013, 161.65109999999999), 0.6419294507999993)\n",
      "\n",
      "\tThere you are. One MARTINI. Shaken, not stirred.\n",
      "\n",
      "('\\n', 'One martini is all right, two is two many, three is not enough', '\\n                                                                 --James Thurber', '\\n')\n"
     ]
    },
    {
     "name": "stderr",
     "output_type": "stream",
     "text": [
      "INFO       MARTINIZE, script version 2.2\n",
      "INFO       If you use this script please cite:\n",
      "INFO       de Jong et al., J. Chem. Theory Comput., 2013, DOI:10.1021/ct300646g\n",
      "INFO       Chain termini will be charged\n",
      "INFO       Residues at chain brakes will not be charged\n",
      "INFO       The elnedyn22nucleic forcefield will be used.\n",
      "INFO       Local elastic bonds will be used for extended regions.\n",
      "INFO       Read input structure from file.\n",
      "INFO       Input structure is a PDB file.\n",
      "INFO       Found 1 chains:\n",
      "INFO          1:   a (Nucleic), 33015 atoms in 1539 residues.\n",
      "INFO       Total size of the system: 1539 residues.\n",
      "WARNING    No secondary structure or determination method speficied. Protein chains will be set to 'COIL'.\n",
      "INFO       Writing coarse grained structure.\n",
      "INFO       (Average) Secondary structure has been determined (see head of .itp-file).\n",
      "INFO       Created coarsegrained topology\n",
      "INFO       Written 1 ITP file\n",
      "INFO       Output contains 1 molecules:\n",
      "INFO          1->  Nucleic_a (chain  a)\n",
      "INFO       Written topology files\n",
      "WARNING    ################################################################################\n",
      "WARNING    This is a beta of Martini-nucleotide and should NOT be used for production runs.\n",
      "WARNING    ################################################################################\n"
     ]
    }
   ],
   "source": [
    "import os\n",
    "!python martinize-nucleotide-2to3.py -type ss-soft-two -f kan_chain_a.pdb -o ch_aS.top -x ch_aS_CG.pdb"
   ]
  },
  {
   "cell_type": "code",
   "execution_count": 8,
   "id": "d2e4f008-d5c1-484b-b01d-a1ccde897b9c",
   "metadata": {
    "tags": []
   },
   "outputs": [
    {
     "ename": "NameError",
     "evalue": "name 'chain' is not defined",
     "output_type": "error",
     "traceback": [
      "\u001b[1;31m---------------------------------------------------------------------------\u001b[0m",
      "\u001b[1;31mNameError\u001b[0m                                 Traceback (most recent call last)",
      "Cell \u001b[1;32mIn[8], line 1\u001b[0m\n\u001b[1;32m----> 1\u001b[0m \u001b[38;5;28mprint\u001b[39m(chain\u001b[38;5;241m.\u001b[39mid)\n",
      "\u001b[1;31mNameError\u001b[0m: name 'chain' is not defined"
     ]
    }
   ],
   "source": [
    "print(chain.id)"
   ]
  },
  {
   "cell_type": "code",
   "execution_count": 10,
   "id": "5627fa99-564c-4d1c-a0bd-c0ea8fab7dbf",
   "metadata": {
    "tags": []
   },
   "outputs": [
    {
     "ename": "NameError",
     "evalue": "name 'python' is not defined",
     "output_type": "error",
     "traceback": [
      "\u001b[1;31m---------------------------------------------------------------------------\u001b[0m",
      "\u001b[1;31mNameError\u001b[0m                                 Traceback (most recent call last)",
      "Cell \u001b[1;32mIn[10], line 1\u001b[0m\n\u001b[1;32m----> 1\u001b[0m python \u001b[38;5;241m-\u001b[39m\u001b[38;5;241m-\u001b[39mversion\n",
      "\u001b[1;31mNameError\u001b[0m: name 'python' is not defined"
     ]
    }
   ],
   "source": [
    "python --version"
   ]
  },
  {
   "cell_type": "code",
   "execution_count": null,
   "id": "a14dcee9-5997-427a-9c7a-9a2647933579",
   "metadata": {},
   "outputs": [],
   "source": []
  }
 ],
 "metadata": {
  "kernelspec": {
   "display_name": "Python 3 (ipykernel)",
   "language": "python",
   "name": "python3"
  },
  "language_info": {
   "codemirror_mode": {
    "name": "ipython",
    "version": 3
   },
   "file_extension": ".py",
   "mimetype": "text/x-python",
   "name": "python",
   "nbconvert_exporter": "python",
   "pygments_lexer": "ipython3",
   "version": "3.11.4"
  }
 },
 "nbformat": 4,
 "nbformat_minor": 5
}
