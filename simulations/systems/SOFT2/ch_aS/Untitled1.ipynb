{
 "cells": [
  {
   "cell_type": "code",
   "execution_count": 3,
   "id": "5f37387e-d57e-43d0-81d5-f9ae73cb0e2b",
   "metadata": {
    "tags": []
   },
   "outputs": [
    {
     "name": "stdout",
     "output_type": "stream",
     "text": [
      "\n",
      "Note: you may need to restart the kernel to use updated packages.\n"
     ]
    }
   ],
   "source": [
    "conda activate base"
   ]
  },
  {
   "cell_type": "code",
   "execution_count": 2,
   "id": "dbdbb0a2-f01e-486c-b75b-12d3b57e0b97",
   "metadata": {
    "tags": []
   },
   "outputs": [
    {
     "name": "stdout",
     "output_type": "stream",
     "text": [
      "False\n",
      "<__main__.Chain object at 0x000002182972E750>\n",
      "a\n",
      "<class 'list'>\n",
      "<class '__main__.Chain'>\n",
      "<class 'list'>\n",
      "<class '__main__.Chain'>\n",
      "<class 'list'>\n",
      "<class '__main__.Chain'>\n",
      "None\n",
      "None\n"
     ]
    },
    {
     "name": "stderr",
     "output_type": "stream",
     "text": [
      "INFO       MARTINIZE, script version 2.2\n",
      "INFO       If you use this script please cite:\n",
      "INFO       de Jong et al., J. Chem. Theory Comput., 2013, DOI:10.1021/ct300646g\n",
      "INFO       Chain termini will not be charged\n",
      "INFO       Residues at chain brakes will be charged\n",
      "INFO       The elnedyn22nucleic forcefield will be used.\n",
      "INFO       Dihedrals will be used for extended regions. (Elastic bonds may be more stable)\n",
      "INFO       Read input structure from file.\n",
      "INFO       Input structure is a PDB file.\n",
      "INFO       Found 1 chains:\n",
      "INFO          1:   a (Nucleic), 33015 atoms in 1539 residues.\n",
      "INFO       Total size of the system: 1539 residues.\n",
      "INFO       Writing coarse grained structure.\n",
      "INFO       (Average) Secondary structure has been determined (see head of .itp-file).\n",
      "DEBUG      FFFFFFFFFFFFFFFFFFFFFFFFFFFFFFFFFFFFFFFFFFFFFFFFFFFFFFFFFFFFFFFFFFFFFFFFFFFFFFFFFFFFFFFFFFFFFFFFFFFFFFFFFFFFFFFFFFFFFFFFFFFFFFFFFFFFFFFFFFFFFFFFFFFFFFFFFFFFFFFFFFFFFFFFFFFFFFFFFFFFFFFFFFFFFFFFFFFFFFFFFFFFFFFFFFFFFFFFFFFFFFFFFFFFFFFFFFFFFFFFFFFFFFFFFFFFFFFFFFFFFFFFFFFFFFFFFFFFFFFFFFFFFFFFFFFFFFFFFFFFFFFFFFFFFFFFFFFFFFFFFFFFFFFFFFFFFFFFFFFFFFFFFFFFFFFFFFFFFFFFFFFFFFFFFFFFFFFFFFFFFFFFFFFFFFFFFFFFFFFFFFFFFFFFFFFFFFFFFFFFFFFFFFFFFFFFFFFFFFFFFFFFFFFFFFFFFFFFFFFFFFFFFFFFFFFFFFFFFFFFFFFFFFFFFFFFFFFFFFFFFFFFFFFFFFFFFFFFFFFFFFFFFFFFFFFFFFFFFFFFFFFFFFFFFFFFFFFFFFFFFFFFFFFFFFFFFFFFFFFFFFFFFFFFFFFFFFFFFFFFFFFFFFFFFFFFFFFFFFFFFFFFFFFFFFFFFFFFFFFFFFFFFFFFFFFFFFFFFFFFFFFFFFFFFFFFFFFFFFFFFFFFFFFFFFFFFFFFFFFFFFFFFFFFFFFFFFFFFFFFFFFFFFFFFFFFFFFFFFFFFFFFFFFFFFFFFFFFFFFFFFFFFFFFFFFFFFFFFFFFFFFFFFFFFFFFFFFFFFFFFFFFFFFFFFFFFFFFFFFFFFFFFFFFFFFFFFFFFFFFFFFFFFFFFFFFFFFFFFFFFFFFFFFFFFFFFFFFFFFFFFFFFFFFFFFFFFFFFFFFFFFFFFFFFFFFFFFFFFFFFFFFFFFFFFFFFFFFFFFFFFFFFFFFFFFFFFFFFFFFFFFFFFFFFFFFFFFFFFFFFFFFFFFFFFFFFFFFFFFFFFFFFFFFFFFFFFFFFFFFFFFFFFFFFFFFFFFFFFFFFFFFFFFFFFFFFFFFFFFFFFFFFFFFFFFFFFFFFFFFFFFFFFFFFFFFFFFFFFFFFFFFFFFFFFFFFFFFFFFFFFFFFFFFFFFFFFFFFFFFFFFFFFFFFFFFFFFFFFFFFFFFFFFFFFFFFFFFFFFFFFFFFFFFFFFFFFFFFFFFFFFFFFFFFFFFFFFFFFFFFFFFFFFFFFFFFFFFFFFFFFFFFFFFFFFFFFFFFFFFFFFFFFFFFFFFFFFFFFFFFFFFFFFFFFFFFFFFFFFFFFFFFFFFFFFFFFFFFFFFFFFFFFFFFFFFFFFFFFFFFFFFFFFFFFFFFFFFFFFFFFFFFFFFFFFFFFFFFFFFFFFFFFFFFFFFFFFFFFFFFFFFFFFFFFFFFFFFFFFFFFFFFFFFFFFFFFFFFFFFFFFFFFFFFFFFFFFFFFFFFFFFFFFFFFFFFFFFFFFFFFFFFFFFFFFFFFFFFFFFFFFFFFFFFFFFFFFFFFFFFFFFFFFFFFFFFFFFFFF\n",
      "DEBUG      ['A', 'A', 'U', 'U', 'G', 'A', 'A', 'G', 'A', 'G', 'U', 'U', 'U', 'G', 'A', 'U', 'C', 'A', 'U', 'G', 'G', 'C', 'U', 'C', 'A', 'G', 'A', 'U', 'U', 'G', 'A', 'A', 'C', 'G', 'C', 'U', 'G', 'G', 'C', 'G', 'G', 'C', 'A', 'G', 'G', 'C', 'C', 'U', 'A', 'A', 'C', 'A', 'C', 'A', 'U', 'G', 'C', 'A', 'A', 'G', 'U', 'C', 'G', 'A', 'A', 'C', 'G', 'G', 'U', 'A', 'A', 'C', 'A', 'G', 'G', 'A', 'A', 'G', 'A', 'A', 'G', 'C', 'U', 'U', 'G', 'C', 'U', 'U', 'C', 'U', 'U', 'U', 'G', 'C', 'U', 'G', 'A', 'C', 'G', 'A', 'G', 'U', 'G', 'G', 'C', 'G', 'G', 'A', 'C', 'G', 'G', 'G', 'U', 'G', 'A', 'G', 'U', 'A', 'A', 'U', 'G', 'U', 'C', 'U', 'G', 'G', 'G', 'A', 'A', 'A', 'C', 'U', 'G', 'C', 'C', 'U', 'G', 'A', 'U', 'G', 'G', 'A', 'G', 'G', 'G', 'G', 'G', 'A', 'U', 'A', 'A', 'C', 'U', 'A', 'C', 'U', 'G', 'G', 'A', 'A', 'A', 'C', 'G', 'G', 'U', 'A', 'G', 'C', 'U', 'A', 'A', 'U', 'A', 'C', 'C', 'G', 'C', 'A', 'U', 'A', 'A', 'C', 'G', 'U', 'C', 'G', 'C', 'A', 'A', 'G', 'A', 'C', 'C', 'A', 'A', 'A', 'G', 'A', 'G', 'G', 'G', 'G', 'G', 'A', 'C', 'C', 'U', 'U', 'C', 'G', 'G', 'G', 'C', 'C', 'U', 'C', 'U', 'U', 'G', 'C', 'C', 'A', 'U', 'C', 'G', 'G', 'A', 'U', 'G', 'U', 'G', 'C', 'C', 'C', 'A', 'G', 'A', 'U', 'G', 'G', 'G', 'A', 'U', 'U', 'A', 'G', 'C', 'U', 'A', 'G', 'U', 'A', 'G', 'G', 'U', 'G', 'G', 'G', 'G', 'U', 'A', 'A', 'C', 'G', 'G', 'C', 'U', 'C', 'A', 'C', 'C', 'U', 'A', 'G', 'G', 'C', 'G', 'A', 'C', 'G', 'A', 'U', 'C', 'C', 'C', 'U', 'A', 'G', 'C', 'U', 'G', 'G', 'U', 'C', 'U', 'G', 'A', 'G', 'A', 'G', 'G', 'A', 'U', 'G', 'A', 'C', 'C', 'A', 'G', 'C', 'C', 'A', 'C', 'A', 'C', 'U', 'G', 'G', 'A', 'A', 'C', 'U', 'G', 'A', 'G', 'A', 'C', 'A', 'C', 'G', 'G', 'U', 'C', 'C', 'A', 'G', 'A', 'C', 'U', 'C', 'C', 'U', 'A', 'C', 'G', 'G', 'G', 'A', 'G', 'G', 'C', 'A', 'G', 'C', 'A', 'G', 'U', 'G', 'G', 'G', 'G', 'A', 'A', 'U', 'A', 'U', 'U', 'G', 'C', 'A', 'C', 'A', 'A', 'U', 'G', 'G', 'G', 'C', 'G', 'C', 'A', 'A', 'G', 'C', 'C', 'U', 'G', 'A', 'U', 'G', 'C', 'A', 'G', 'C', 'C', 'A', 'U', 'G', 'C', 'C', 'G', 'C', 'G', 'U', 'G', 'U', 'A', 'U', 'G', 'A', 'A', 'G', 'A', 'A', 'G', 'G', 'C', 'C', 'U', 'U', 'C', 'G', 'G', 'G', 'U', 'U', 'G', 'U', 'A', 'A', 'A', 'G', 'U', 'A', 'C', 'U', 'U', 'U', 'C', 'A', 'G', 'C', 'G', 'G', 'G', 'G', 'A', 'G', 'G', 'A', 'A', 'G', 'G', 'G', 'A', 'G', 'U', 'A', 'A', 'A', 'G', 'U', 'U', 'A', 'A', 'U', 'A', 'C', 'C', 'U', 'U', 'U', 'G', 'C', 'U', 'C', 'A', 'U', 'U', 'G', 'A', 'C', 'G', 'U', 'U', 'A', 'C', 'C', 'C', 'G', 'C', 'A', 'G', 'A', 'A', 'G', 'A', 'A', 'G', 'C', 'A', 'C', 'C', 'G', 'G', 'C', 'U', 'A', 'A', 'C', 'U', 'C', 'C', 'G', 'U', 'G', 'C', 'C', 'A', 'G', 'C', 'A', 'G', 'C', 'C', 'G', 'C', 'G', 'G', 'U', 'A', 'A', 'U', 'A', 'C', 'G', 'G', 'A', 'G', 'G', 'G', 'U', 'G', 'C', 'A', 'A', 'G', 'C', 'G', 'U', 'U', 'A', 'A', 'U', 'C', 'G', 'G', 'A', 'A', 'U', 'U', 'A', 'C', 'U', 'G', 'G', 'G', 'C', 'G', 'U', 'A', 'A', 'A', 'G', 'C', 'G', 'C', 'A', 'C', 'G', 'C', 'A', 'G', 'G', 'C', 'G', 'G', 'U', 'U', 'U', 'G', 'U', 'U', 'A', 'A', 'G', 'U', 'C', 'A', 'G', 'A', 'U', 'G', 'U', 'G', 'A', 'A', 'A', 'U', 'C', 'C', 'C', 'C', 'G', 'G', 'G', 'C', 'U', 'C', 'A', 'A', 'C', 'C', 'U', 'G', 'G', 'G', 'A', 'A', 'C', 'U', 'G', 'C', 'A', 'U', 'C', 'U', 'G', 'A', 'U', 'A', 'C', 'U', 'G', 'G', 'C', 'A', 'A', 'G', 'C', 'U', 'U', 'G', 'A', 'G', 'U', 'C', 'U', 'C', 'G', 'U', 'A', 'G', 'A', 'G', 'G', 'G', 'G', 'G', 'G', 'U', 'A', 'G', 'A', 'A', 'U', 'U', 'C', 'C', 'A', 'G', 'G', 'U', 'G', 'U', 'A', 'G', 'C', 'G', 'G', 'U', 'G', 'A', 'A', 'A', 'U', 'G', 'C', 'G', 'U', 'A', 'G', 'A', 'G', 'A', 'U', 'C', 'U', 'G', 'G', 'A', 'G', 'G', 'A', 'A', 'U', 'A', 'C', 'C', 'G', 'G', 'U', 'G', 'G', 'C', 'G', 'A', 'A', 'G', 'G', 'C', 'G', 'G', 'C', 'C', 'C', 'C', 'C', 'U', 'G', 'G', 'A', 'C', 'G', 'A', 'A', 'G', 'A', 'C', 'U', 'G', 'A', 'C', 'G', 'C', 'U', 'C', 'A', 'G', 'G', 'U', 'G', 'C', 'G', 'A', 'A', 'A', 'G', 'C', 'G', 'U', 'G', 'G', 'G', 'G', 'A', 'G', 'C', 'A', 'A', 'A', 'C', 'A', 'G', 'G', 'A', 'U', 'U', 'A', 'G', 'A', 'U', 'A', 'C', 'C', 'C', 'U', 'G', 'G', 'U', 'A', 'G', 'U', 'C', 'C', 'A', 'C', 'G', 'C', 'C', 'G', 'U', 'A', 'A', 'A', 'C', 'G', 'A', 'U', 'G', 'U', 'C', 'G', 'A', 'C', 'U', 'U', 'G', 'G', 'A', 'G', 'G', 'U', 'U', 'G', 'U', 'G', 'C', 'C', 'C', 'U', 'U', 'G', 'A', 'G', 'G', 'C', 'G', 'U', 'G', 'G', 'C', 'U', 'U', 'C', 'C', 'G', 'G', 'A', 'G', 'C', 'U', 'A', 'A', 'C', 'G', 'C', 'G', 'U', 'U', 'A', 'A', 'G', 'U', 'C', 'G', 'A', 'C', 'C', 'G', 'C', 'C', 'U', 'G', 'G', 'G', 'G', 'A', 'G', 'U', 'A', 'C', 'G', 'G', 'C', 'C', 'G', 'C', 'A', 'A', 'G', 'G', 'U', 'U', 'A', 'A', 'A', 'A', 'C', 'U', 'C', 'A', 'A', 'A', 'U', 'G', 'A', 'A', 'U', 'U', 'G', 'A', 'C', 'G', 'G', 'G', 'G', 'G', 'C', 'C', 'C', 'G', 'C', 'A', 'C', 'A', 'A', 'G', 'C', 'G', 'G', 'U', 'G', 'G', 'A', 'G', 'C', 'A', 'U', 'G', 'U', 'G', 'G', 'U', 'U', 'U', 'A', 'A', 'U', 'U', 'C', 'G', 'A', 'U', 'G', 'C', 'A', 'A', 'C', 'G', 'C', 'G', 'A', 'A', 'G', 'A', 'A', 'C', 'C', 'U', 'U', 'A', 'C', 'C', 'U', 'G', 'G', 'U', 'C', 'U', 'U', 'G', 'A', 'C', 'A', 'U', 'C', 'C', 'A', 'C', 'G', 'G', 'A', 'A', 'G', 'U', 'U', 'U', 'U', 'C', 'A', 'G', 'A', 'G', 'A', 'U', 'G', 'A', 'G', 'A', 'A', 'U', 'G', 'U', 'G', 'C', 'C', 'U', 'U', 'C', 'G', 'G', 'G', 'A', 'A', 'C', 'C', 'G', 'U', 'G', 'A', 'G', 'A', 'C', 'A', 'G', 'G', 'U', 'G', 'C', 'U', 'G', 'C', 'A', 'U', 'G', 'G', 'C', 'U', 'G', 'U', 'C', 'G', 'U', 'C', 'A', 'G', 'C', 'U', 'C', 'G', 'U', 'G', 'U', 'U', 'G', 'U', 'G', 'A', 'A', 'A', 'U', 'G', 'U', 'U', 'G', 'G', 'G', 'U', 'U', 'A', 'A', 'G', 'U', 'C', 'C', 'C', 'G', 'C', 'A', 'A', 'C', 'G', 'A', 'G', 'C', 'G', 'C', 'A', 'A', 'C', 'C', 'C', 'U', 'U', 'A', 'U', 'C', 'C', 'U', 'U', 'U', 'G', 'U', 'U', 'G', 'C', 'C', 'A', 'G', 'C', 'G', 'G', 'U', 'C', 'C', 'G', 'G', 'C', 'C', 'G', 'G', 'G', 'A', 'A', 'C', 'U', 'C', 'A', 'A', 'A', 'G', 'G', 'A', 'G', 'A', 'C', 'U', 'G', 'C', 'C', 'A', 'G', 'U', 'G', 'A', 'U', 'A', 'A', 'A', 'C', 'U', 'G', 'G', 'A', 'G', 'G', 'A', 'A', 'G', 'G', 'U', 'G', 'G', 'G', 'G', 'A', 'U', 'G', 'A', 'C', 'G', 'U', 'C', 'A', 'A', 'G', 'U', 'C', 'A', 'U', 'C', 'A', 'U', 'G', 'G', 'C', 'C', 'C', 'U', 'U', 'A', 'C', 'G', 'A', 'C', 'C', 'A', 'G', 'G', 'G', 'C', 'U', 'A', 'C', 'A', 'C', 'A', 'C', 'G', 'U', 'G', 'C', 'U', 'A', 'C', 'A', 'A', 'U', 'G', 'G', 'C', 'G', 'C', 'A', 'U', 'A', 'C', 'A', 'A', 'A', 'G', 'A', 'G', 'A', 'A', 'G', 'C', 'G', 'A', 'C', 'C', 'U', 'C', 'G', 'C', 'G', 'A', 'G', 'A', 'G', 'C', 'A', 'A', 'G', 'C', 'G', 'G', 'A', 'C', 'C', 'U', 'C', 'A', 'U', 'A', 'A', 'A', 'G', 'U', 'G', 'C', 'G', 'U', 'C', 'G', 'U', 'A', 'G', 'U', 'C', 'C', 'G', 'G', 'A', 'U', 'U', 'G', 'G', 'A', 'G', 'U', 'C', 'U', 'G', 'C', 'A', 'A', 'C', 'U', 'C', 'G', 'A', 'C', 'U', 'C', 'C', 'A', 'U', 'G', 'A', 'A', 'G', 'U', 'C', 'G', 'G', 'A', 'A', 'U', 'C', 'G', 'C', 'U', 'A', 'G', 'U', 'A', 'A', 'U', 'C', 'G', 'U', 'G', 'G', 'A', 'U', 'C', 'A', 'G', 'A', 'A', 'U', 'G', 'C', 'C', 'A', 'C', 'G', 'G', 'U', 'G', 'A', 'A', 'U', 'A', 'C', 'G', 'U', 'U', 'C', 'C', 'C', 'G', 'G', 'G', 'C', 'C', 'U', 'U', 'G', 'U', 'A', 'C', 'A', 'C', 'A', 'C', 'C', 'G', 'C', 'C', 'C', 'G', 'U', 'C', 'A', 'C', 'A', 'C', 'C', 'A', 'U', 'G', 'G', 'G', 'A', 'G', 'U', 'G', 'G', 'G', 'U', 'U', 'G', 'C', 'A', 'A', 'A', 'A', 'G', 'A', 'A', 'G', 'U', 'A', 'G', 'G', 'U', 'A', 'G', 'C', 'U', 'U', 'A', 'A', 'C', 'C', 'U', 'U', 'C', 'G', 'G', 'G', 'A', 'G', 'G', 'G', 'C', 'G', 'C', 'U', 'U', 'A', 'C', 'C', 'A', 'C', 'U', 'U', 'U', 'G', 'U', 'G', 'A', 'U', 'U', 'C', 'A', 'U', 'G', 'A', 'C', 'U', 'G', 'G', 'G', 'G', 'U', 'G', 'A', 'A', 'G', 'U', 'C', 'G', 'U', 'A', 'A', 'C', 'A', 'A', 'G', 'G', 'U', 'A', 'A', 'C', 'C', 'G', 'U', 'A', 'G', 'G', 'G', 'G', 'A', 'A', 'C', 'C', 'U', 'G', 'C', 'G', 'G', 'U', 'U', 'G', 'G', 'A', 'U', 'C', 'A', 'C', 'C', 'U', 'C', 'C', 'U']\n",
      "Traceback (most recent call last):\n",
      "  File \"C:\\Users\\Josef\\OneDrive\\Documents\\SYSTEM-20231106T115254Z-001\\SYSTEM\\ch_aS\\martinize-nucleotide.py\", line 5043, in <module>\n",
      "    main(options)\n",
      "  File \"C:\\Users\\Josef\\OneDrive\\Documents\\SYSTEM-20231106T115254Z-001\\SYSTEM\\ch_aS\\martinize-nucleotide.py\", line 4893, in main\n",
      "    top = Topology(mol[0],options=options,name=name)\n",
      "          ^^^^^^^^^^^^^^^^^^^^^^^^^^^^^^^^^^^^^^^^^^\n",
      "  File \"C:\\Users\\Josef\\OneDrive\\Documents\\SYSTEM-20231106T115254Z-001\\SYSTEM\\ch_aS\\martinize-nucleotide.py\", line 3372, in __init__\n",
      "    self.fromNucleicAcidSequence(other)\n",
      "  File \"C:\\Users\\Josef\\OneDrive\\Documents\\SYSTEM-20231106T115254Z-001\\SYSTEM\\ch_aS\\martinize-nucleotide.py\", line 4002, in fromNucleicAcidSequence\n",
      "    if len(dihed.parameters) > 3:\n",
      "       ^^^^^^^^^^^^^^^^^^^^^\n",
      "TypeError: object of type 'NoneType' has no len()\n"
     ]
    }
   ],
   "source": [
    "!python martinize-nucleotide.py -type ss-soft-two -f kan_chain_a.pdb -o ch_aS.top -x ch_aS_CG.pdb"
   ]
  },
  {
   "cell_type": "code",
   "execution_count": null,
   "id": "f87a7e7d-057e-4763-8d36-aa46a80e5e53",
   "metadata": {},
   "outputs": [],
   "source": []
  }
 ],
 "metadata": {
  "kernelspec": {
   "display_name": "Python 3 (ipykernel)",
   "language": "python",
   "name": "python3"
  },
  "language_info": {
   "codemirror_mode": {
    "name": "ipython",
    "version": 3
   },
   "file_extension": ".py",
   "mimetype": "text/x-python",
   "name": "python",
   "nbconvert_exporter": "python",
   "pygments_lexer": "ipython3",
   "version": "3.11.4"
  }
 },
 "nbformat": 4,
 "nbformat_minor": 5
}
