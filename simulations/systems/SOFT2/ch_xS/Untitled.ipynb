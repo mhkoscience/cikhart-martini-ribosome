{
 "cells": [
  {
   "cell_type": "code",
   "execution_count": 1,
   "id": "02440e30-d5aa-4595-be73-997ee8accc6b",
   "metadata": {
    "tags": []
   },
   "outputs": [
    {
     "name": "stdout",
     "output_type": "stream",
     "text": [
      "\n",
      "\tThere you are. One MARTINI. Shaken, not stirred.\n",
      "\n",
      "('\\n', 'I am prepared to believe that a dry martini slightly impairs the palate, but think what it does for the soul.', '\\n                                                                    --Alec Waugh', '\\n')\n"
     ]
    },
    {
     "name": "stderr",
     "output_type": "stream",
     "text": [
      "INFO       MARTINIZE, script version 2.2\n",
      "INFO       If you use this script please cite:\n",
      "INFO       de Jong et al., J. Chem. Theory Comput., 2013, DOI:10.1021/ct300646g\n",
      "INFO       Chain termini will be charged\n",
      "INFO       Residues at chain brakes will not be charged\n",
      "INFO       The elnedyn22nucleic forcefield will be used.\n",
      "INFO       Local elastic bonds will be used for extended regions.\n",
      "INFO       Read input structure from file.\n",
      "INFO       Input structure is a PDB file.\n",
      "INFO       Found 1 chains:\n",
      "INFO          1:   x (Nucleic), 234 atoms in 11 residues.\n",
      "INFO       Total size of the system: 11 residues.\n",
      "WARNING    No secondary structure or determination method speficied. Protein chains will be set to 'COIL'.\n",
      "INFO       Writing coarse grained structure.\n",
      "INFO       (Average) Secondary structure has been determined (see head of .itp-file).\n",
      "INFO       Created coarsegrained topology\n",
      "INFO       Written 1 ITP file\n",
      "INFO       Output contains 1 molecules:\n",
      "INFO          1->  Nucleic_x (chain  x)\n",
      "INFO       Written topology files\n",
      "WARNING    ################################################################################\n",
      "WARNING    This is a beta of Martini-nucleotide and should NOT be used for production runs.\n",
      "WARNING    ################################################################################\n"
     ]
    }
   ],
   "source": [
    "import os\n",
    "!python martinize-nucleotide-2to3.py -type ss-soft-two -f kan_chain_x.pdb -o ch_xS.top -x ch_xS_CG.pdb"
   ]
  },
  {
   "cell_type": "code",
   "execution_count": null,
   "id": "2b040fdc-bb49-459b-9f4e-7ae2c1ec9137",
   "metadata": {},
   "outputs": [],
   "source": []
  }
 ],
 "metadata": {
  "kernelspec": {
   "display_name": "Python 3 (ipykernel)",
   "language": "python",
   "name": "python3"
  },
  "language_info": {
   "codemirror_mode": {
    "name": "ipython",
    "version": 3
   },
   "file_extension": ".py",
   "mimetype": "text/x-python",
   "name": "python",
   "nbconvert_exporter": "python",
   "pygments_lexer": "ipython3",
   "version": "3.11.4"
  }
 },
 "nbformat": 4,
 "nbformat_minor": 5
}
