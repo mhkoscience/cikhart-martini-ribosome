{
 "cells": [
  {
   "cell_type": "code",
   "execution_count": 1,
   "id": "e6cf2472-9120-422a-b04c-3dc09b402028",
   "metadata": {},
   "outputs": [],
   "source": [
    "def analyze_lines(itp_file, target_string):\n",
    "    unique_numbers = []\n",
    "    number_counts = {}\n",
    "\n",
    "    with open(itp_file, 'r') as itp:\n",
    "        lines = itp.readlines()\n",
    "        matching_lines = [line for line in lines if target_string in line]\n",
    "\n",
    "        for line in matching_lines:\n",
    "            parts = line.split()\n",
    "            number1 = int(parts[0])\n",
    "            number2 = int(parts[1])\n",
    "            unique_numbers.extend([number1, number2])\n",
    "            if number1 in number_counts:\n",
    "                number_counts[number1] += 1\n",
    "            else:\n",
    "                number_counts[number1] = 1\n",
    "\n",
    "            if number2 in number_counts:\n",
    "                number_counts[number2] += 1\n",
    "            else:\n",
    "                number_counts[number2] = 1\n",
    "\n",
    "    unique_numbers = list(set(unique_numbers))\n",
    "    average_count = sum(number_counts.values()) / len(number_counts)\n",
    "\n",
    "    return unique_numbers, number_counts, average_count"
   ]
  },
  {
   "cell_type": "code",
   "execution_count": 2,
   "id": "4964d989-3924-425f-834a-54f2a4e4577b",
   "metadata": {},
   "outputs": [],
   "source": [
    "itpst_A = \"./data/Nucleic_A_STIFF.itp\"\n",
    "pdbst_A = \"./data/ch_A_CG_STIFF.pdb\"\n",
    "\n",
    "itpso_A = \"./data/Nucleic_A_SOFT.itp\"\n",
    "pdbso_A = \"./data/ch_A_CG_SOFT.pdb\"\n",
    "\n",
    "itptw_A = \"./data/Nucleic_A_SOFT2.itp\"\n",
    "pdbtw_A = \"./data/ch_A_CG_SOFT2.pdb\"\n",
    "\n",
    "itplp_A = \"./data/Nucleic_A_LIMP.itp\"\n",
    "pdblp_A = \"./data/ch_A_CG_LIMP.pdb\"\n",
    "\n",
    "\n",
    "itpst_a = \"./data/Nucleic_a_STIFF.itp\"\n",
    "pdbst_a = \"./data/ch_aS_CG_STIFF.pdb\"\n",
    "\n",
    "itpso_a = \"./data/Nucleic_a_SOFT.itp\"\n",
    "pdbso_a = \"./data/ch_aS_CG_SOFT.pdb\"\n",
    "\n",
    "itptw_a = \"./data/Nucleic_a_SOFT2.itp\"\n",
    "pdbtw_a = \"./data/ch_aS_CG_SOFT2.pdb\"\n",
    "\n",
    "itplp_a = \"./data/Nucleic_a_LIMP.itp\"\n",
    "pdblp_a = \"./data/ch_aS_CG_LIMP.pdb\"\n",
    "\n",
    "\n",
    "itpst_B = \"./data/Nucleic_B_STIFF.itp\"\n",
    "pdbst_B = \"./data/ch_B_CG_STIFF.pdb\"\n",
    "\n",
    "itpso_B = \"./data/Nucleic_B_SOFT.itp\"\n",
    "pdbso_B = \"./data/ch_B_CG_SOFT.pdb\"\n",
    "\n",
    "itptw_B = \"./data/Nucleic_B_SOFT2.itp\"\n",
    "pdbtw_B = \"./data/ch_B_CG_SOFT2.pdb\"\n",
    "\n",
    "itplp_B = \"./data/Nucleic_B_LIMP.itp\"\n",
    "pdblp_B = \"./data/ch_B_CG_LIMP.pdb\""
   ]
  },
  {
   "cell_type": "code",
   "execution_count": 3,
   "id": "206a5e64-0dfb-4cee-a45d-cddbf54e43a7",
   "metadata": {},
   "outputs": [],
   "source": [
    "unique_numbers_st, number_counts_st_A, average_count_st_A = analyze_lines(itpst_A, 'RUBBER_FC*1.000000')\n",
    "unique_numbers_so, number_counts_so_A, average_count_so_A = analyze_lines(itpso_A, 'RUBBER_FC*1.000000')\n",
    "unique_numbers_tw, number_counts_tw_A, average_count_tw_A = analyze_lines(itptw_A, 'RUBBER_FC*1.000000')\n",
    "unique_numbers_lp, number_counts_lp_A, average_count_lp_A = analyze_lines(itplp_A, 'RUBBER_FC*1.000000')\n",
    "\n",
    "unique_numbers_st, number_counts_st_a, average_count_st_a = analyze_lines(itpst_a, 'RUBBER_FC*1.000000')\n",
    "unique_numbers_so, number_counts_so_a, average_count_so_a = analyze_lines(itpso_a, 'RUBBER_FC*1.000000')\n",
    "unique_numbers_tw, number_counts_tw_a, average_count_tw_a = analyze_lines(itptw_a, 'RUBBER_FC*1.000000')\n",
    "unique_numbers_lp, number_counts_lp_a, average_count_lp_a = analyze_lines(itplp_a, 'RUBBER_FC*1.000000')\n",
    "\n",
    "unique_numbers_st, number_counts_st_B, average_count_st_B = analyze_lines(itpst_B, 'RUBBER_FC*1.000000')\n",
    "unique_numbers_so, number_counts_so_B, average_count_so_B = analyze_lines(itpso_B, 'RUBBER_FC*1.000000')\n",
    "unique_numbers_tw, number_counts_tw_B, average_count_tw_B = analyze_lines(itptw_B, 'RUBBER_FC*1.000000')\n",
    "unique_numbers_lp, number_counts_lp_B, average_count_lp_B = analyze_lines(itplp_B, 'RUBBER_FC*1.000000')"
   ]
  },
  {
   "cell_type": "code",
   "execution_count": 4,
   "id": "0ea8ff6d-4459-4fa5-8cc5-ba315bf0c53b",
   "metadata": {},
   "outputs": [],
   "source": [
    "av_st = (average_count_st_A * len(number_counts_st_A) + average_count_st_a*len(number_counts_st_a) + average_count_st_B*len(number_counts_st_B))/(len(number_counts_st_A) + len(number_counts_st_a) + len(number_counts_st_B))\n",
    "av_so = (average_count_so_A * len(number_counts_so_A) + average_count_so_a*len(number_counts_so_a) + average_count_so_B*len(number_counts_so_B))/(len(number_counts_so_A) + len(number_counts_so_a) + len(number_counts_so_B))"
   ]
  },
  {
   "cell_type": "code",
   "execution_count": 5,
   "id": "3d668954-e194-492d-8deb-08798df37142",
   "metadata": {},
   "outputs": [],
   "source": [
    "av_tw = (average_count_tw_A * len(number_counts_tw_A) + average_count_tw_a*len(number_counts_tw_a) + average_count_tw_B*len(number_counts_tw_B))/(len(number_counts_tw_A) + len(number_counts_tw_a) + len(number_counts_tw_B))"
   ]
  },
  {
   "cell_type": "code",
   "execution_count": 6,
   "id": "bf189321-3b4a-486c-8cfe-fdbc470e4f61",
   "metadata": {},
   "outputs": [],
   "source": [
    "av_lp = (average_count_lp_A * len(number_counts_lp_A) + average_count_lp_a*len(number_counts_lp_a) + average_count_lp_B*len(number_counts_lp_B))/(len(number_counts_lp_A) + len(number_counts_lp_a) + len(number_counts_lp_B))"
   ]
  },
  {
   "cell_type": "code",
   "execution_count": 7,
   "id": "0e8dee0c-ab51-4137-bdf1-3fe2c73ca820",
   "metadata": {},
   "outputs": [],
   "source": [
    "singlecolor = '#4477AA'"
   ]
  },
  {
   "cell_type": "code",
   "execution_count": 8,
   "id": "028b098a-85da-49fa-8119-bb1cb238bc91",
   "metadata": {},
   "outputs": [],
   "source": [
    "counts = [av_st,av_so,av_tw,av_lp]"
   ]
  },
  {
   "cell_type": "code",
   "execution_count": 9,
   "id": "0cfbc61d-ea13-4774-86e7-db1dfea4186c",
   "metadata": {},
   "outputs": [
    {
     "data": {
      "image/png": "[encoded data removed]",
      "text/plain": [
       "<Figure size 200x60 with 1 Axes>"
      ]
     },
     "metadata": {},
     "output_type": "display_data"
    }
   ],
   "source": [
    "import matplotlib.pyplot as plt\n",
    "plt.rcParams['font.family'] = 'Open Sans'\n",
    "NETS = ['STIFF','SOFT','SOFT2','LIMP']\n",
    "fig, ax = plt.subplots(figsize=(2.0, 0.6))\n",
    "width=0.75\n",
    "bar_colors = [singlecolor,singlecolor,singlecolor,singlecolor]\n",
    "fsp=20\n",
    "bars0 = ax.bar(NETS, counts, label = NETS, color = singlecolor, width=0.75)\n",
    "ax.spines['top'].set_visible(False)\n",
    "ax.spines['right'].set_visible(False)\n",
    "for bar in bars0:\n",
    "  ax.text(\n",
    "      bar.get_x() + bar.get_width() / 2,\n",
    "      bar.get_height() + 0.6,\n",
    "      round(bar.get_height(), 1),\n",
    "      horizontalalignment='center',\n",
    "      color=\"black\",\n",
    "      weight='normal',\n",
    "      fontsize=8\n",
    "  )\n",
    "ax.set_xticks(NETS, labels=NETS, size=8)\n",
    "\n",
    "ax.set_ylabel(\"Contacts\", fontsize=8, fontweight='normal', labelpad=0)\n",
    "ax.set_ylim(0,60)\n",
    "ax.set_yticks([0,60], labels=[0,60], size=8)\n",
    "plt.show()"
   ]
  },
  {
   "cell_type": "code",
   "execution_count": 17,
   "id": "78fe1b4f-1b28-4967-a65a-2362aaca4c00",
   "metadata": {
    "tags": []
   },
   "outputs": [
    {
     "name": "stderr",
     "output_type": "stream",
     "text": [
      "/home/cikhartj/anaconda3/lib/python3.11/site-packages/MDAnalysis/topology/PDBParser.py:350: UserWarning: Element information is missing, elements attribute will not be populated. If needed these can be guessed using universe.guess_TopologyAttrs(context='default', to_guess=['elements']).\n",
      "  warnings.warn(\"Element information is missing, elements attribute \"\n"
     ]
    }
   ],
   "source": [
    "import MDAnalysis as mda\n",
    "u_st1 = mda.Universe('./data/md.1.stiff.final.pdb')\n",
    "u_st2 = mda.Universe('./data/md.2.stiff.final.pdb')\n",
    "u_st3 = mda.Universe('./data/md.3.stiff.final.pdb')\n",
    "u_st4 = mda.Universe('./data/md.4.stiff.final.pdb')"
   ]
  },
  {
   "cell_type": "code",
   "execution_count": null,
   "id": "bd10da6e-2ba5-47c9-9215-8de870c22cd2",
   "metadata": {},
   "outputs": [],
   "source": [
    "u_so1 = mda.Universe('./data/md.1.soft.final.pdb')\n",
    "u_so2 = mda.Universe('./data/md.2.soft.final.pdb')\n",
    "u_so3 = mda.Universe('./data/md.3.soft.final.pdb')\n",
    "u_so4 = mda.Universe('./data/md.4.soft.final.pdb')"
   ]
  },
  {
   "cell_type": "code",
   "execution_count": 11,
   "id": "a4a6f1cb-c6e6-4eaf-b11f-19411476e36a",
   "metadata": {
    "tags": []
   },
   "outputs": [],
   "source": [
    "u_tw1 = mda.Universe('./data/md.1.soft2.final.pdb')\n",
    "u_tw2 = mda.Universe('./data/md.2.soft2.final.pdb')\n",
    "u_tw3 = mda.Universe('./data/md.3.soft2.final.pdb')\n",
    "u_tw4 = mda.Universe('./data/md.4.soft2.final.pdb')"
   ]
  },
  {
   "cell_type": "code",
   "execution_count": 12,
   "id": "bafbbf11-b84b-4095-bd24-e17db9b72f8d",
   "metadata": {
    "tags": []
   },
   "outputs": [],
   "source": [
    "u_lp1 = mda.Universe('./data/md.1.limp.final.pdb')\n",
    "u_lp2 = mda.Universe('./data/md.2.limp.final.pdb')\n",
    "u_lp3 = mda.Universe('./data/md.3.limp.final.pdb')\n",
    "u_lp4 = mda.Universe('./data/md.4.limp.final.pdb')"
   ]
  },
  {
   "cell_type": "code",
   "execution_count": 13,
   "id": "26d1ac30-7c7a-4dc3-97ed-6d6adffa2541",
   "metadata": {},
   "outputs": [
    {
     "name": "stderr",
     "output_type": "stream",
     "text": [
      "/home/cikhartj/anaconda3/lib/python3.11/site-packages/MDAnalysis/topology/PDBParser.py:346: UserWarning: Unknown element  found for some atoms. These have been given an empty element record. If needed they can be guessed using universe.guess_TopologyAttrs(context='default', to_guess=['elements']).\n",
      "  warnings.warn(wmsg)\n"
     ]
    }
   ],
   "source": [
    "u_aa1 = mda.Universe('./data/prod.1.pdb')\n",
    "u_aa2 = mda.Universe('./data/prod.2.pdb')\n",
    "u_aa3 = mda.Universe('./data/prod.3.pdb')\n",
    "u_aa4 = mda.Universe('./data/prod.4.pdb')"
   ]
  },
  {
   "cell_type": "code",
   "execution_count": 14,
   "id": "b68d17ad-fbbc-448b-bf53-a7e8ab01bd2b",
   "metadata": {},
   "outputs": [],
   "source": [
    "waters_test_aa1_ff = u_aa1.select_atoms(\n",
    "    'name OW and around 8.0 (element C or element N or element P or element O or element S and (not (name OW or name HW1 or name HW2)))'\n",
    ")\n",
    "\n",
    "waters_test_aa2_ff = u_aa2.select_atoms(\n",
    "    'name OW and around 8.0 (element C or element N or element P or element O or element S and (not (name OW or name HW1 or name HW2)))'\n",
    ")\n",
    "\n",
    "waters_test_aa3_ff = u_aa3.select_atoms(\n",
    "    'name OW and around 8.0 (element C or element N or element P or element O or element S and (not (name OW or name HW1 or name HW2)))'\n",
    ")\n",
    "\n",
    "waters_test_aa4_ff = u_aa4.select_atoms(\n",
    "    'name OW and around 8.0 (element C or element N or element P or element O or element S and (not (name OW or name HW1 or name HW2)))'\n",
    ")"
   ]
  },
  {
   "cell_type": "code",
   "execution_count": 15,
   "id": "35d942d2-7049-4782-b19b-d100c9cba6a2",
   "metadata": {},
   "outputs": [],
   "source": [
    "water_count_aa1_ff = len(waters_test_aa1_ff)\n",
    "water_count_aa2_ff = len(waters_test_aa2_ff)\n",
    "water_count_aa3_ff = len(waters_test_aa3_ff)\n",
    "water_count_aa4_ff = len(waters_test_aa4_ff)"
   ]
  },
  {
   "cell_type": "code",
   "execution_count": 18,
   "id": "522430a6-0b5d-401a-abe8-0c67e71911cf",
   "metadata": {
    "tags": []
   },
   "outputs": [],
   "source": [
    "water_count_st1 = len(u_st1.select_atoms('name W and around 8.0 (name BB or name BB1 or name BB2 or name BB3 or name SC1 or name SC2 or name SC3 or name SC4)'))\n",
    "water_count_st2 = len(u_st2.select_atoms('name W and around 8.0 (name BB or name BB1 or name BB2 or name BB3 or name SC1 or name SC2 or name SC3 or name SC4)'))\n",
    "water_count_st3 = len(u_st3.select_atoms('name W and around 8.0 (name BB or name BB1 or name BB2 or name BB3 or name SC1 or name SC2 or name SC3 or name SC4)'))\n",
    "water_count_st4 = len(u_st4.select_atoms('name W and around 8.0 (name BB or name BB1 or name BB2 or name BB3 or name SC1 or name SC2 or name SC3 or name SC4)'))"
   ]
  },
  {
   "cell_type": "code",
   "execution_count": 19,
   "id": "be2f2c96-0194-45c0-97ee-7681bb06964e",
   "metadata": {
    "tags": []
   },
   "outputs": [],
   "source": [
    "water_count_so1 = len(u_so1.select_atoms('name W and around 8.0 (name BB or name BB1 or name BB2 or name BB3 or name SC1 or name SC2 or name SC3 or name SC4)'))\n",
    "water_count_so2 = len(u_so2.select_atoms('name W and around 8.0 (name BB or name BB1 or name BB2 or name BB3 or name SC1 or name SC2 or name SC3 or name SC4)'))\n",
    "water_count_so3 = len(u_so3.select_atoms('name W and around 8.0 (name BB or name BB1 or name BB2 or name BB3 or name SC1 or name SC2 or name SC3 or name SC4)'))\n",
    "water_count_so4 = len(u_so4.select_atoms('name W and around 8.0 (name BB or name BB1 or name BB2 or name BB3 or name SC1 or name SC2 or name SC3 or name SC4)'))"
   ]
  },
  {
   "cell_type": "code",
   "execution_count": 20,
   "id": "93f44097-766f-43af-9d25-a7c8e918fd37",
   "metadata": {
    "tags": []
   },
   "outputs": [],
   "source": [
    "water_count_tw1 = len(u_tw1.select_atoms('name W and around 8.0 (name BB or name BB1 or name BB2 or name BB3 or name SC1 or name SC2 or name SC3 or name SC4)'))\n",
    "water_count_tw2 = len(u_tw2.select_atoms('name W and around 8.0 (name BB or name BB1 or name BB2 or name BB3 or name SC1 or name SC2 or name SC3 or name SC4)'))\n",
    "water_count_tw3 = len(u_tw3.select_atoms('name W and around 8.0 (name BB or name BB1 or name BB2 or name BB3 or name SC1 or name SC2 or name SC3 or name SC4)'))\n",
    "water_count_tw4 = len(u_tw4.select_atoms('name W and around 8.0 (name BB or name BB1 or name BB2 or name BB3 or name SC1 or name SC2 or name SC3 or name SC4)'))"
   ]
  },
  {
   "cell_type": "code",
   "execution_count": 21,
   "id": "dca0af94-fe90-4596-bccd-7deacb821b86",
   "metadata": {
    "tags": []
   },
   "outputs": [],
   "source": [
    "water_count_lp1 = len(u_lp1.select_atoms('name W and around 8.0 (name BB or name BB1 or name BB2 or name BB3 or name SC1 or name SC2 or name SC3 or name SC4)'))\n",
    "water_count_lp2 = len(u_lp2.select_atoms('name W and around 8.0 (name BB or name BB1 or name BB2 or name BB3 or name SC1 or name SC2 or name SC3 or name SC4)'))\n",
    "water_count_lp3 = len(u_lp3.select_atoms('name W and around 8.0 (name BB or name BB1 or name BB2 or name BB3 or name SC1 or name SC2 or name SC3 or name SC4)'))\n",
    "water_count_lp4 = len(u_lp4.select_atoms('name W and around 8.0 (name BB or name BB1 or name BB2 or name BB3 or name SC1 or name SC2 or name SC3 or name SC4)'))"
   ]
  },
  {
   "cell_type": "code",
   "execution_count": 28,
   "id": "a3d64d55-e3f6-4052-9bea-cdb761ace09f",
   "metadata": {},
   "outputs": [],
   "source": [
    "import numpy as np\n",
    "def compute_mean_variance(numbers):\n",
    "    mean = np.mean(numbers)\n",
    "\n",
    "    variance = np.std(numbers)\n",
    "    return mean, variance"
   ]
  },
  {
   "cell_type": "code",
   "execution_count": 29,
   "id": "0007eb0c-71a0-44b3-8002-eeaac97c3024",
   "metadata": {
    "scrolled": true
   },
   "outputs": [],
   "source": [
    "waters_stiff = compute_mean_variance ([water_count_st1*4, water_count_st2*4, water_count_st3*4, water_count_st4*4])"
   ]
  },
  {
   "cell_type": "code",
   "execution_count": 30,
   "id": "5db904ba-7e2b-4ca4-b0df-e564f991b66d",
   "metadata": {
    "scrolled": true
   },
   "outputs": [],
   "source": [
    "waters_soft = compute_mean_variance ([water_count_so1*4, water_count_so2*4, water_count_so3*4, water_count_so4*4])"
   ]
  },
  {
   "cell_type": "code",
   "execution_count": 31,
   "id": "d6b7209c-b11e-4998-83e9-b0c71aae56ae",
   "metadata": {},
   "outputs": [],
   "source": [
    "waters_soft2 = compute_mean_variance ([water_count_tw1*4, water_count_tw2*4, water_count_tw3*4, water_count_tw4*4])"
   ]
  },
  {
   "cell_type": "code",
   "execution_count": 32,
   "id": "fefc2d14-2152-40ec-904e-91e5166320a9",
   "metadata": {},
   "outputs": [],
   "source": [
    "waters_limp = compute_mean_variance ([water_count_lp1*4, water_count_lp2*4, water_count_lp3*4, water_count_lp4*4])"
   ]
  },
  {
   "cell_type": "code",
   "execution_count": 33,
   "id": "f2c944f4-6485-4dfa-b35f-a48136e0efe9",
   "metadata": {},
   "outputs": [],
   "source": [
    "waters_aa = compute_mean_variance([114234, 113623, 113730 ,114455])"
   ]
  },
  {
   "cell_type": "code",
   "execution_count": 34,
   "id": "25f1aa9d-6bf7-4c55-9d58-7ce12aaf35d0",
   "metadata": {},
   "outputs": [],
   "source": [
    "values = [waters_stiff[0], waters_soft[0], waters_soft2[0],waters_limp[0],waters_aa[0]]"
   ]
  },
  {
   "cell_type": "code",
   "execution_count": 35,
   "id": "4aad32ee-baf9-4507-a0dc-2dfb9858d762",
   "metadata": {},
   "outputs": [],
   "source": [
    "socolor1 = '#228833'\n",
    "socolor2 = '#228833'\n",
    "socolor3 = '#228833'\n",
    "socolor4 = '#228833'\n",
    "colorssoft = [socolor1, socolor2, socolor3, socolor4]\n",
    "\n",
    "twcolor1 = '#66CCEE'\n",
    "twcolor2 = '#66CCEE'\n",
    "twcolor3 = '#66CCEE'\n",
    "twcolor4 = '#66CCEE'\n",
    "colorssoft2 = [twcolor1, twcolor2, twcolor3, twcolor4]\n",
    "\n",
    "lpcolor1 = '#EE6677'\n",
    "lpcolor2 = '#EE6677'\n",
    "lpcolor3 = '#EE6677'\n",
    "lpcolor4 = '#EE6677'\n",
    "colorslimp = [lpcolor1, lpcolor2, lpcolor3, lpcolor4]\n",
    "\n",
    "stcolor1 = '#AA3377'\n",
    "stcolor2 = '#AA3377'\n",
    "stcolor3 = '#AA3377'\n",
    "stcolor4 = '#AA3377'\n",
    "colorsstiff = [stcolor1, stcolor2, stcolor3, stcolor4]\n",
    "\n",
    "aacolor1 = '#CCBB44'\n",
    "aacolor2 = '#CCBB44'\n",
    "aacolor3 = '#CCBB44'\n",
    "aacolor4 = '#CCBB44'\n",
    "colorsaa = [aacolor1, aacolor2, aacolor3, aacolor4]"
   ]
  },
  {
   "cell_type": "code",
   "execution_count": 36,
   "id": "41343f87-41b9-4817-bfaf-52f7a7f12ec6",
   "metadata": {},
   "outputs": [],
   "source": [
    "singlecolor = '#4477AA'"
   ]
  },
  {
   "cell_type": "code",
   "execution_count": 37,
   "id": "b0bd3a72-a97e-4214-a2c3-a3aa9540e386",
   "metadata": {
    "tags": []
   },
   "outputs": [
    {
     "data": {
      "image/png": "[encoded data removed]",
      "text/plain": [
       "<Figure size 250x60 with 1 Axes>"
      ]
     },
     "metadata": {},
     "output_type": "display_data"
    }
   ],
   "source": [
    "import matplotlib.pyplot as plt\n",
    "fig, ax = plt.subplots(figsize = (2.5,0.6))\n",
    "NETS = ['STIFF', 'SOFT', 'SOFT2', 'LIMP', 'AA']\n",
    "plt.rcParams[\"font.weight\"] = \"normal\"\n",
    "plt.rcParams['font.family'] = 'Open Sans'\n",
    "bar_colors = [stcolor1,socolor4,twcolor3,lpcolor2,aacolor3]\n",
    "bars=ax.bar(NETS, values, align='center', ecolor='black', capsize=8, color = singlecolor, width=0.75)\n",
    "ax.set_ylabel('Water' + '\\n' + 'count', fontweight='normal', fontsize=8, labelpad=-10)\n",
    "ax.yaxis.grid(False)\n",
    "ax.set_yticks([0,150000])\n",
    "ax.set_yticklabels([0,115000], size=8)\n",
    "ax.spines['top'].set_visible(False)\n",
    "ax.spines['right'].set_visible(False)\n",
    "ax.set_xticks(NETS, labels=NETS, size=8)\n",
    "plt.show()"
   ]
  },
  {
   "cell_type": "code",
   "execution_count": null,
   "id": "79b7190e-65df-4413-85dd-f0aa1f20b5df",
   "metadata": {},
   "outputs": [],
   "source": []
  }
 ],
 "metadata": {
  "kernelspec": {
   "display_name": "Python 3 (ipykernel)",
   "language": "python",
   "name": "python3"
  },
  "language_info": {
   "codemirror_mode": {
    "name": "ipython",
    "version": 3
   },
   "file_extension": ".py",
   "mimetype": "text/x-python",
   "name": "python",
   "nbconvert_exporter": "python",
   "pygments_lexer": "ipython3",
   "version": "3.11.7"
  }
 },
 "nbformat": 4,
 "nbformat_minor": 5
}
