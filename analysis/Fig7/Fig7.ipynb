{
 "cells": [
  {
   "cell_type": "code",
   "execution_count": 1,
   "id": "2b2a9745-9fc9-47b7-9a26-d2262bd55c96",
   "metadata": {
    "editable": true,
    "slideshow": {
     "slide_type": ""
    },
    "tags": []
   },
   "outputs": [],
   "source": [
    "import numpy as np\n",
    "import pandas as pd\n",
    "import matplotlib.pyplot as plt\n",
    "plt.rcParams['font.family'] = 'Open Sans'"
   ]
  },
  {
   "cell_type": "code",
   "execution_count": 2,
   "id": "b456fa35-c915-473b-9361-5dc80caaa54d",
   "metadata": {
    "tags": []
   },
   "outputs": [],
   "source": [
    "CHAINS = ['0', '1', '2', '3', '4', '5', '6', '7', 'A', 'B', 'C', 'D', 'E', 'F', 'G', 'H', 'I', 'J',\n",
    "          'K', 'L', 'M', 'N', 'O', 'P', 'Q', 'R', 'S', 'T', 'U', 'V', 'W', 'X', 'Y', 'Z', 'a', 'b',\n",
    "          'c', 'd', 'e', 'f', 'g', 'h', 'i', 'j', 'k', 'l', 'm', 'n', 'o', 'p', 'q', 'r', 's', 't',\n",
    "          'u']"
   ]
  },
  {
   "cell_type": "code",
   "execution_count": 3,
   "id": "cbb862f5-09a8-4117-b6c4-28eb6fae720e",
   "metadata": {},
   "outputs": [],
   "source": [
    "socolor1 = '#228833'\n",
    "socolor2 = '#228833'\n",
    "socolor3 = '#228833'\n",
    "socolor4 = '#228833'\n",
    "colorssoft = [socolor1, socolor2, socolor3, socolor4]\n",
    "\n",
    "twcolor1 = '#66CCEE'\n",
    "twcolor2 = '#66CCEE'\n",
    "twcolor3 = '#66CCEE'\n",
    "twcolor4 = '#66CCEE'\n",
    "colorssoft2 = [twcolor1, twcolor2, twcolor3, twcolor4]\n",
    "\n",
    "lpcolor1 = '#EE6677'\n",
    "lpcolor2 = '#EE6677'\n",
    "lpcolor3 = '#EE6677'\n",
    "lpcolor4 = '#EE6677'\n",
    "colorslimp = [lpcolor1, lpcolor2, lpcolor3, lpcolor4]\n",
    "\n",
    "stcolor1 = '#AA3377'\n",
    "stcolor2 = '#AA3377'\n",
    "stcolor3 = '#AA3377'\n",
    "stcolor4 = '#AA3377'\n",
    "colorsstiff = [stcolor1, stcolor2, stcolor3, stcolor4]\n",
    "\n",
    "aacolor1 = '#CCBB44'\n",
    "aacolor2 = '#CCBB44'\n",
    "aacolor3 = '#CCBB44'\n",
    "aacolor4 = '#CCBB44'\n",
    "colorsaa = [aacolor1, aacolor2, aacolor3, aacolor4]"
   ]
  },
  {
   "cell_type": "code",
   "execution_count": 4,
   "id": "3b1412be-890b-4ec7-9fea-4c209bc80c9e",
   "metadata": {},
   "outputs": [],
   "source": [
    "singlecolor = '#4477AA'"
   ]
  },
  {
   "cell_type": "code",
   "execution_count": 5,
   "id": "be359a02-2f28-4129-96e0-904f32a5f717",
   "metadata": {},
   "outputs": [],
   "source": [
    "def save_to_csv(df, filename):\n",
    "    df.to_csv(filename, index=False)\n",
    "def load_from_csv(filename):\n",
    "    return pd.read_csv(filename)"
   ]
  },
  {
   "cell_type": "code",
   "execution_count": 6,
   "id": "18fccadc-c88d-4320-b9ba-e00b9ace7e94",
   "metadata": {},
   "outputs": [],
   "source": [
    "dg_st1 = load_from_csv('./data/rmsd_all_st1.csv')\n",
    "dg_st2 = load_from_csv('./data/rmsd_all_st2.csv')\n",
    "dg_st3 = load_from_csv('./data/rmsd_all_st3.csv')\n",
    "dg_st4 = load_from_csv('./data/rmsd_all_st4.csv')"
   ]
  },
  {
   "cell_type": "code",
   "execution_count": 7,
   "id": "811cf6b9-c5b7-481a-a5f9-cbb85ca5e437",
   "metadata": {},
   "outputs": [],
   "source": [
    "dg_so1 = load_from_csv('./data/rmsd_all_so1.csv')\n",
    "dg_so2 = load_from_csv('./data/rmsd_all_so2.csv')\n",
    "dg_so3 = load_from_csv('./data/rmsd_all_so3.csv')\n",
    "dg_so4 = load_from_csv('./data/rmsd_all_so4.csv')"
   ]
  },
  {
   "cell_type": "code",
   "execution_count": 8,
   "id": "36a4fd8f-d9f3-43d0-a23e-03545f4d2f31",
   "metadata": {},
   "outputs": [],
   "source": [
    "dg_tw1 = load_from_csv('./data/rmsd_all_tw1.csv')\n",
    "dg_tw2 = load_from_csv('./data/rmsd_all_tw2.csv')\n",
    "dg_tw3 = load_from_csv('./data/rmsd_all_tw3.csv')\n",
    "dg_tw4 = load_from_csv('./data/rmsd_all_tw4.csv')"
   ]
  },
  {
   "cell_type": "code",
   "execution_count": 9,
   "id": "f0f5aabe-d30e-4c91-a29b-22ff07d69adc",
   "metadata": {},
   "outputs": [],
   "source": [
    "dg_lp1 = load_from_csv('./data/rmsd_all_lp1.csv')\n",
    "dg_lp2 = load_from_csv('./data/rmsd_all_lp2.csv')\n",
    "dg_lp3 = load_from_csv('./data/rmsd_all_lp3.csv')\n",
    "dg_lp4 = load_from_csv('./data/rmsd_all_lp4.csv')"
   ]
  },
  {
   "cell_type": "code",
   "execution_count": 10,
   "id": "97dff7f0-c105-4cbc-9ab0-dfb9a3274d69",
   "metadata": {},
   "outputs": [],
   "source": [
    "dg_aa1 = load_from_csv('./data/rmsd_all_aa1.csv')\n",
    "dg_aa2 = load_from_csv('./data/rmsd_all_aa2.csv')\n",
    "dg_aa3 = load_from_csv('./data/rmsd_all_aa3.csv')\n",
    "dg_aa4 = load_from_csv('./data/rmsd_all_aa4.csv')"
   ]
  },
  {
   "cell_type": "code",
   "execution_count": 11,
   "id": "79a49205-40a8-4b36-a99b-690417228d00",
   "metadata": {},
   "outputs": [],
   "source": [
    "dg_total_stiff = np.concatenate([dg_st1,dg_st2,dg_st3,dg_st4])\n",
    "dg_total_soft = np.concatenate([dg_so1,dg_so2,dg_so3,dg_so4])\n",
    "dg_total_soft2 = np.concatenate([dg_tw1,dg_tw2,dg_tw3,dg_tw4])\n",
    "dg_total_limp = np.concatenate([dg_lp1,dg_lp2,dg_lp3,dg_lp4])\n",
    "dg_total_aa = np.concatenate([dg_aa1,dg_aa2,dg_aa3,dg_aa4])"
   ]
  },
  {
   "cell_type": "code",
   "execution_count": 12,
   "id": "1088fe4d-d10a-4f4a-a07e-f3844907d8ec",
   "metadata": {},
   "outputs": [],
   "source": [
    "dg_total_stiff_san_zero = dg_total_stiff[dg_total_stiff[:,2]>0.05]\n",
    "dg_total_soft_san_zero = dg_total_soft[dg_total_soft[:,2]>0.05]\n",
    "dg_total_soft2_san_zero = dg_total_soft2[dg_total_soft2[:,2]>0.05]\n",
    "dg_total_limp_san_zero = dg_total_limp[dg_total_limp[:,2]>0.05]\n",
    "dg_total_aa_san_zero = dg_total_aa[dg_total_aa[:,2]>0.05]"
   ]
  },
  {
   "cell_type": "code",
   "execution_count": 13,
   "id": "ab6e80fc-6342-470d-ae6d-96e74bc8e88e",
   "metadata": {},
   "outputs": [
    {
     "data": {
      "image/png": "[encoded data removed]",
      "text/plain": [
       "<Figure size 100x100 with 1 Axes>"
      ]
     },
     "metadata": {},
     "output_type": "display_data"
    }
   ],
   "source": [
    "plt.rcParams['font.family'] = 'Open Sans'\n",
    "from matplotlib.patches import Patch\n",
    "fig, axs = plt.subplots(figsize=(1.0, 1.0))\n",
    "plt.rcParams['font.family'] = 'Open Sans'\n",
    "bn= int(np.rint(np.sqrt(len(dg_total_stiff_san_zero))))\n",
    "n=800\n",
    "m=800\n",
    "import matplotlib.patheffects as pe\n",
    "j='white'\n",
    "k='black'\n",
    "lw = 1.7\n",
    "lwna = 0.32\n",
    "l_lim = 2.0\n",
    "r_lim = 5.0\n",
    "u_lim = 7.5\n",
    "lsp = 8\n",
    "\n",
    "axs.hist(dg_total_stiff_san_zero[:,2], bins=bn,density=True, color=stcolor1,label = \"STIFF average\",linewidth=lwna,histtype='step', alpha=0.95)\n",
    "axs.hist(dg_total_limp_san_zero[:,2],bins=bn, density=True, color=lpcolor2,label = \"LIMP average\",linewidth=lwna,histtype='step', alpha=0.95)\n",
    "axs.hist(dg_total_soft_san_zero[:,2],bins=bn, density=True, color=socolor4,label = \"SOFT average\",linewidth=lwna,histtype='step', alpha=0.95)\n",
    "axs.hist(dg_total_soft2_san_zero[:,2],bins=bn, density=True, color=twcolor3,label = \"SOFT2 average\",linewidth=lwna,histtype='step', alpha=0.95)\n",
    "axs.hist(dg_total_aa_san_zero[:,2], bins=bn,density=True, color=aacolor3, label = \"AA average\", linewidth=lwna,histtype='step', alpha=0.95)\n",
    "lsp = 8\n",
    "ls = 20\n",
    "\n",
    "\n",
    "axs.set_ylabel(r\"pdf [arb. u.]\",fontsize= lsp, labelpad=3)\n",
    "\n",
    "axs.set_xlabel(\"RMSD [nm]\", fontsize=lsp)\n",
    "\n",
    "\n",
    "axs.spines['top'].set_visible(False)\n",
    "axs.spines['right'].set_visible(False)\n",
    "axs.set_ylim(0,2)\n",
    "axs.set_yticks([0,2], labels=[0,2], size=8)\n",
    "axs.set_xlim(1.2,5)\n",
    "axs.set_xticks([2,4], labels=[2,4], size=8)\n",
    "plt.show()"
   ]
  },
  {
   "cell_type": "code",
   "execution_count": 14,
   "id": "8b4b4835-7055-4362-b35a-fb25ef6573fe",
   "metadata": {},
   "outputs": [],
   "source": [
    "PTC_rmsd_st1 = load_from_csv('./data/rmsd_ptc_st1.csv')\n",
    "PTC_rmsd_st2 = load_from_csv('./data/rmsd_ptc_st2.csv')\n",
    "PTC_rmsd_st3 = load_from_csv('./data/rmsd_ptc_st3.csv')\n",
    "PTC_rmsd_st4 = load_from_csv('./data/rmsd_ptc_st4.csv')"
   ]
  },
  {
   "cell_type": "code",
   "execution_count": 15,
   "id": "dcdd596b-3225-4449-bace-626bce8f2485",
   "metadata": {},
   "outputs": [],
   "source": [
    "PTC_rmsd_so1 = load_from_csv('./data/rmsd_ptc_so1.csv')\n",
    "PTC_rmsd_so2 = load_from_csv('./data/rmsd_ptc_so2.csv')\n",
    "PTC_rmsd_so3 = load_from_csv('./data/rmsd_ptc_so3.csv')\n",
    "PTC_rmsd_so4 = load_from_csv('./data/rmsd_ptc_so4.csv')"
   ]
  },
  {
   "cell_type": "code",
   "execution_count": 16,
   "id": "57410966-2481-4698-9f6c-de53a5f0ab6c",
   "metadata": {},
   "outputs": [],
   "source": [
    "PTC_rmsd_tw1 = load_from_csv('./data/rmsd_ptc_tw1.csv')\n",
    "PTC_rmsd_tw2 = load_from_csv('./data/rmsd_ptc_tw2.csv')\n",
    "PTC_rmsd_tw3 = load_from_csv('./data/rmsd_ptc_tw3.csv')\n",
    "PTC_rmsd_tw4 = load_from_csv('./data/rmsd_ptc_tw4.csv')"
   ]
  },
  {
   "cell_type": "code",
   "execution_count": 17,
   "id": "e902ca63-e308-4f54-bc96-93dbe31d2d29",
   "metadata": {},
   "outputs": [],
   "source": [
    "PTC_rmsd_lp1 = load_from_csv('./data/rmsd_ptc_lp1.csv')\n",
    "PTC_rmsd_lp2 = load_from_csv('./data/rmsd_ptc_lp2.csv')\n",
    "PTC_rmsd_lp3 = load_from_csv('./data/rmsd_ptc_lp3.csv')\n",
    "PTC_rmsd_lp4 = load_from_csv('./data/rmsd_ptc_lp4.csv')"
   ]
  },
  {
   "cell_type": "code",
   "execution_count": 18,
   "id": "bf44506d-c896-468f-8932-b97a0377eaac",
   "metadata": {},
   "outputs": [],
   "source": [
    "PTC_rmsd_aa1 = load_from_csv('./data/rmsd_ptc_aa1.csv')\n",
    "PTC_rmsd_aa2 = load_from_csv('./data/rmsd_ptc_aa2.csv')\n",
    "PTC_rmsd_aa3 = load_from_csv('./data/rmsd_ptc_aa3.csv')\n",
    "PTC_rmsd_aa4 = load_from_csv('./data/rmsd_ptc_aa4.csv')"
   ]
  },
  {
   "cell_type": "code",
   "execution_count": 19,
   "id": "4e06b5eb-c7c8-464f-8f9d-523d05f17876",
   "metadata": {
    "tags": []
   },
   "outputs": [],
   "source": [
    "PTC_RMSD_total_stiff = np.concatenate([PTC_rmsd_st1.RMSD_PTC, PTC_rmsd_st2.RMSD_PTC, PTC_rmsd_st3.RMSD_PTC, PTC_rmsd_st4.RMSD_PTC])\n",
    "PTC_RMSD_total_soft = np.concatenate([PTC_rmsd_so1.RMSD_PTC, PTC_rmsd_so2.RMSD_PTC, PTC_rmsd_so3.RMSD_PTC, PTC_rmsd_so4.RMSD_PTC])\n",
    "PTC_RMSD_total_soft2 = np.concatenate([PTC_rmsd_tw1.RMSD_PTC, PTC_rmsd_tw2.RMSD_PTC, PTC_rmsd_tw3.RMSD_PTC, PTC_rmsd_tw4.RMSD_PTC])\n",
    "PTC_RMSD_total_limp = np.concatenate([PTC_rmsd_lp1.RMSD_PTC, PTC_rmsd_lp2.RMSD_PTC, PTC_rmsd_lp3.RMSD_PTC, PTC_rmsd_lp4.RMSD_PTC])\n",
    "PTC_RMSD_total_aa = np.concatenate([PTC_rmsd_aa1.RMSD_PTC, PTC_rmsd_aa2.RMSD_PTC, PTC_rmsd_aa3.RMSD_PTC, PTC_rmsd_aa4.RMSD_PTC])"
   ]
  },
  {
   "cell_type": "code",
   "execution_count": 20,
   "id": "edc26749-dcf3-41da-b21b-4698ad6d0dd9",
   "metadata": {},
   "outputs": [],
   "source": [
    "PTC_RMSD_total_stiff_A = np.concatenate([PTC_rmsd_st1.A, PTC_rmsd_st2.A, PTC_rmsd_st3.A, PTC_rmsd_st4.A])\n",
    "PTC_RMSD_total_soft_A = np.concatenate([PTC_rmsd_so1.A, PTC_rmsd_so2.A, PTC_rmsd_so3.A, PTC_rmsd_so4.A])\n",
    "PTC_RMSD_total_soft2_A = np.concatenate([PTC_rmsd_tw1.A, PTC_rmsd_tw2.A, PTC_rmsd_tw3.A, PTC_rmsd_tw4.A])\n",
    "PTC_RMSD_total_limp_A = np.concatenate([PTC_rmsd_lp1.A, PTC_rmsd_lp2.A, PTC_rmsd_lp3.A, PTC_rmsd_lp4.A])"
   ]
  },
  {
   "cell_type": "code",
   "execution_count": 21,
   "id": "5055611e-f6e9-47b8-abd3-0e41657d1f86",
   "metadata": {},
   "outputs": [],
   "source": [
    "PTC_RMSD_total_stiff_C = np.concatenate([PTC_rmsd_st1.C, PTC_rmsd_st2.C, PTC_rmsd_st3.C, PTC_rmsd_st4.C])\n",
    "PTC_RMSD_total_soft_C = np.concatenate([PTC_rmsd_so1.C, PTC_rmsd_so2.C, PTC_rmsd_so3.C, PTC_rmsd_so4.C])\n",
    "PTC_RMSD_total_soft2_C = np.concatenate([PTC_rmsd_tw1.C, PTC_rmsd_tw2.C, PTC_rmsd_tw3.C, PTC_rmsd_tw4.C])\n",
    "PTC_RMSD_total_limp_C = np.concatenate([PTC_rmsd_lp1.C, PTC_rmsd_lp2.C, PTC_rmsd_lp3.C, PTC_rmsd_lp4.C])"
   ]
  },
  {
   "cell_type": "code",
   "execution_count": 22,
   "id": "593366cd-ba8c-49e8-85cf-d680e5b8a095",
   "metadata": {},
   "outputs": [],
   "source": [
    "PTC_RMSD_total_stiff_D = np.concatenate([PTC_rmsd_st1.D, PTC_rmsd_st2.D, PTC_rmsd_st3.D, PTC_rmsd_st4.D])\n",
    "PTC_RMSD_total_soft_D = np.concatenate([PTC_rmsd_so1.D, PTC_rmsd_so2.D, PTC_rmsd_so3.D, PTC_rmsd_so4.D])\n",
    "PTC_RMSD_total_soft2_D = np.concatenate([PTC_rmsd_tw1.D, PTC_rmsd_tw2.D, PTC_rmsd_tw3.D, PTC_rmsd_tw4.D])\n",
    "PTC_RMSD_total_limp_D = np.concatenate([PTC_rmsd_lp1.D, PTC_rmsd_lp2.D, PTC_rmsd_lp3.D, PTC_rmsd_lp4.D])"
   ]
  },
  {
   "cell_type": "code",
   "execution_count": 23,
   "id": "e819fdff-5a0f-48f3-90ff-877fece62887",
   "metadata": {},
   "outputs": [],
   "source": [
    "PTC_RMSD_total_stiff_E = np.concatenate([PTC_rmsd_st1.E, PTC_rmsd_st2.E, PTC_rmsd_st3.E, PTC_rmsd_st4.E])\n",
    "PTC_RMSD_total_soft_E = np.concatenate([PTC_rmsd_so1.E, PTC_rmsd_so2.E, PTC_rmsd_so3.E, PTC_rmsd_so4.E])\n",
    "PTC_RMSD_total_soft2_E = np.concatenate([PTC_rmsd_tw1.E, PTC_rmsd_tw2.E, PTC_rmsd_tw3.E, PTC_rmsd_tw4.E])\n",
    "PTC_RMSD_total_limp_E = np.concatenate([PTC_rmsd_lp1.E, PTC_rmsd_lp2.E, PTC_rmsd_lp3.E, PTC_rmsd_lp4.E])"
   ]
  },
  {
   "cell_type": "code",
   "execution_count": 31,
   "id": "ac0ca093-43d4-49f0-9d0b-aad4b96e62dc",
   "metadata": {
    "tags": []
   },
   "outputs": [
    {
     "data": {
      "image/png": "[encoded data removed]",
      "text/plain": [
       "<Figure size 100x100 with 1 Axes>"
      ]
     },
     "metadata": {},
     "output_type": "display_data"
    }
   ],
   "source": [
    "plt.rcParams['font.family'] = 'Open Sans'\n",
    "import matplotlib.patches as mpatches\n",
    "fig, axs = plt.subplots(figsize=(1.0, 1.0))\n",
    "bn= int(np.rint(np.sqrt(len(PTC_RMSD_total_stiff))))\n",
    "n=800\n",
    "m=800\n",
    "import matplotlib.patheffects as pe\n",
    "j='white'\n",
    "k='black'\n",
    "lw = 1.7\n",
    "lwna = 0.32\n",
    "l_lim = 0.45\n",
    "r_lim = 1.61\n",
    "u_lim = 28\n",
    "lsp = 8\n",
    "\n",
    "axs.hist(PTC_RMSD_total_stiff[PTC_RMSD_total_stiff>0.05], bins=bn,density=True, color=stcolor1,label = \"STIFF\",linewidth=lwna, histtype='step', alpha=0.95)\n",
    "axs.hist(PTC_RMSD_total_limp[PTC_RMSD_total_limp>0.05],bins=bn, density=True, color=lpcolor2,label = \"LIMP\",linewidth=lwna, histtype='step', alpha=0.95)\n",
    "axs.hist(PTC_RMSD_total_soft[PTC_RMSD_total_soft>0.05],bins=bn, density=True, color=socolor4,label = \"SOFT\",linewidth=lwna, histtype='step', alpha=0.95)\n",
    "axs.hist(PTC_RMSD_total_soft2[PTC_RMSD_total_soft2>0.05],bins=bn, density=True, color=twcolor1,label = \"SOFT2\",linewidth=lwna, histtype='step', alpha=0.95)\n",
    "axs.hist(PTC_RMSD_total_aa[PTC_RMSD_total_aa>0.05], bins=bn,density=True, color=aacolor3, label = \"AA\", linewidth=lwna, histtype='step', alpha=0.95)\n",
    "axs.spines['top'].set_visible(False)\n",
    "axs.spines['right'].set_visible(False)\n",
    "lsp = 8\n",
    "ls = 20\n",
    "\n",
    "\n",
    "axs.set_ylabel(\"pdf [arb. u.]\",fontsize= lsp, labelpad=3)\n",
    "\n",
    "axs.set_xlabel(\"RMSD [nm]\", fontsize=lsp)\n",
    "axs.set_xlim(0.4,1.8)\n",
    "axs.set_ylim(0,7.5)\n",
    "axs.set_yticks([0,7.5], labels=[0,7.5], size=8)\n",
    "\n",
    "axs.set_xticks([0.5,1.5], labels=[0.5,1.5], size=8)\n",
    "\n",
    "stiff_patch = mpatches.Patch(facecolor=stcolor1, label=\"STIFF\")\n",
    "limp_patch  = mpatches.Patch(facecolor=lpcolor2, label=\"LIMP\")\n",
    "soft_patch  = mpatches.Patch(facecolor=socolor4, label=\"SOFT\")\n",
    "soft2_patch = mpatches.Patch(facecolor=twcolor1, label=\"SOFT2\")\n",
    "aa_patch    = mpatches.Patch(facecolor=aacolor3, label=\"AA\")\n",
    "\n",
    "#axs.legend(handles=[stiff_patch,soft_patch, soft2_patch,  limp_patch, aa_patch], handlelength=1.0,handleheight=0.32,ncols=1, fontsize=8)\n",
    "plt.show()"
   ]
  },
  {
   "cell_type": "code",
   "execution_count": 25,
   "id": "7c341edc-6719-44c9-8165-8308541c572d",
   "metadata": {},
   "outputs": [],
   "source": [
    "from scipy.stats import pearsonr"
   ]
  },
  {
   "cell_type": "code",
   "execution_count": 26,
   "id": "57b160e4-8caf-49d7-bfee-f3fbef0f4bd8",
   "metadata": {},
   "outputs": [
    {
     "name": "stdout",
     "output_type": "stream",
     "text": [
      "0.49143189600025283 0.34138408942813264 0.6682643714574219 0.8037848655246618\n"
     ]
    }
   ],
   "source": [
    "r_A_ch_soft_tot, p_A_ch_soft_tot = pearsonr(PTC_RMSD_total_soft, PTC_RMSD_total_soft_A)\n",
    "r_C_ch_soft_tot, p_C_ch_soft_tot = pearsonr(PTC_RMSD_total_soft, PTC_RMSD_total_soft_C)\n",
    "\n",
    "r_D_ch_soft_tot, p_D_ch_soft_tot = pearsonr(PTC_RMSD_total_soft, PTC_RMSD_total_soft_D)\n",
    "r_E_ch_soft_tot, p_E_ch_soft_tot = pearsonr(PTC_RMSD_total_soft, PTC_RMSD_total_soft_E)\n",
    "\n",
    "print(r_A_ch_soft_tot,r_C_ch_soft_tot,r_D_ch_soft_tot,r_E_ch_soft_tot)"
   ]
  },
  {
   "cell_type": "code",
   "execution_count": 27,
   "id": "4570d863-830d-4771-80df-dcc7f8c509c8",
   "metadata": {},
   "outputs": [
    {
     "name": "stdout",
     "output_type": "stream",
     "text": [
      "0.6701056604945266 0.1975336858298516 0.7646987112029993 0.851608901731977\n"
     ]
    }
   ],
   "source": [
    "r_A_ch_soft2_tot, p_A_ch_soft2_tot = pearsonr(PTC_RMSD_total_soft2, PTC_RMSD_total_soft2_A)\n",
    "r_C_ch_soft2_tot, p_C_ch_soft2_tot = pearsonr(PTC_RMSD_total_soft2, PTC_RMSD_total_soft2_C)\n",
    "r_D_ch_soft2_tot, p_D_ch_soft2_tot = pearsonr(PTC_RMSD_total_soft2, PTC_RMSD_total_soft2_D)\n",
    "r_E_ch_soft2_tot, p_E_ch_soft2_tot = pearsonr(PTC_RMSD_total_soft2, PTC_RMSD_total_soft2_E)\n",
    "\n",
    "print(r_A_ch_soft2_tot,r_C_ch_soft2_tot,r_D_ch_soft2_tot,r_E_ch_soft2_tot)"
   ]
  },
  {
   "cell_type": "code",
   "execution_count": 28,
   "id": "76e5f0d2-1794-4e03-877f-c220f4e61f0e",
   "metadata": {},
   "outputs": [
    {
     "name": "stdout",
     "output_type": "stream",
     "text": [
      "0.11377076983523055 0.08024941792286298 0.580609474758666 0.8998193732910919\n"
     ]
    }
   ],
   "source": [
    "r_A_ch_limp_tot, p_A_ch_limp_tot = pearsonr(PTC_RMSD_total_limp, PTC_RMSD_total_limp_A)\n",
    "r_C_ch_limp_tot, p_C_ch_limp_tot = pearsonr(PTC_RMSD_total_limp, PTC_RMSD_total_limp_C)\n",
    "r_D_ch_limp_tot, p_D_ch_limp_tot = pearsonr(PTC_RMSD_total_limp, PTC_RMSD_total_limp_D)\n",
    "r_E_ch_limp_tot, p_E_ch_limp_tot = pearsonr(PTC_RMSD_total_limp, PTC_RMSD_total_limp_E)\n",
    "\n",
    "print(r_A_ch_limp_tot,r_C_ch_limp_tot,r_D_ch_limp_tot,r_E_ch_limp_tot)"
   ]
  },
  {
   "cell_type": "code",
   "execution_count": 29,
   "id": "f53db18c-4043-4190-84de-16c0191333e3",
   "metadata": {},
   "outputs": [],
   "source": [
    "dict_pcc = {\n",
    "    'SOFT': [r_A_ch_soft_tot,r_C_ch_soft_tot,r_D_ch_soft_tot,r_E_ch_soft_tot],\n",
    "    'SOFT2': [r_A_ch_soft2_tot,r_C_ch_soft2_tot,r_D_ch_soft2_tot,r_E_ch_soft2_tot],\n",
    "    'LIMP': [r_A_ch_limp_tot,r_C_ch_limp_tot,r_D_ch_limp_tot,r_E_ch_limp_tot]\n",
    "}\n",
    "\n",
    "chains_PTC = ['23S rRNA','uL2','uL3','uL4']\n",
    "\n",
    "names_PTC = [\"SOFT\",\"SOFT2\", \"LIMP\"]\n",
    "#A...23S rRNA; C...L2;D...L3;E...L4"
   ]
  },
  {
   "cell_type": "code",
   "execution_count": 30,
   "id": "341f61fd-200b-4a5a-ba7b-c44134ce41ff",
   "metadata": {},
   "outputs": [
    {
     "data": {
      "image/png": "[encoded data removed]",
      "text/plain": [
       "<Figure size 300x60 with 1 Axes>"
      ]
     },
     "metadata": {},
     "output_type": "display_data"
    }
   ],
   "source": [
    "import numpy as np\n",
    "import matplotlib.pyplot as plt\n",
    "plt.rcParams['font.family'] = 'Open Sans'\n",
    "names_PTC = [\"SOFT\",\"SOFT2\",\"LIMP\"]\n",
    "colors = [socolor1, twcolor1, lpcolor1]\n",
    "\n",
    "fig, ax = plt.subplots(figsize=(3, 0.6))\n",
    "\n",
    "x = np.arange(len(chains_PTC))  \n",
    "width = 0.3                     \n",
    "\n",
    "for i, name in enumerate(names_PTC):\n",
    "    bars = ax.bar(x + i*width,\n",
    "           dict_pcc[name],\n",
    "           width=width,\n",
    "           color=colors[i],\n",
    "           label=name)\n",
    "\n",
    "ax.set_xticks(x + width, labels=chains_PTC, rotation=0, size=8)\n",
    "ax.set_ylim(0, 1)\n",
    "ax.set_yticks([0,1], labels=[0,1],size=8)\n",
    "ax.spines['top'].set_visible(False)\n",
    "ax.spines['right'].set_visible(False)\n",
    "\n",
    "ax.set_ylabel('PCC', fontsize=8)\n",
    "ax.set_xlabel('Chain name', fontsize=8)\n",
    "plt.show()"
   ]
  }
 ],
 "metadata": {
  "kernelspec": {
   "display_name": "Python 3 (ipykernel)",
   "language": "python",
   "name": "python3"
  },
  "language_info": {
   "codemirror_mode": {
    "name": "ipython",
    "version": 3
   },
   "file_extension": ".py",
   "mimetype": "text/x-python",
   "name": "python",
   "nbconvert_exporter": "python",
   "pygments_lexer": "ipython3",
   "version": "3.11.7"
  }
 },
 "nbformat": 4,
 "nbformat_minor": 5
}
