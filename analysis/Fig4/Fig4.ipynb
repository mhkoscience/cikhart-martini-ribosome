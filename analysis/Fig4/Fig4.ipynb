{
 "cells": [
  {
   "cell_type": "code",
   "execution_count": 1,
   "id": "4f43259a-af29-4515-9332-f8f5a43c5f83",
   "metadata": {},
   "outputs": [
    {
     "name": "stderr",
     "output_type": "stream",
     "text": [
      "/home/cikhartj/anaconda3/lib/python3.11/site-packages/Bio/Application/__init__.py:39: BiopythonDeprecationWarning: The Bio.Application modules and modules relying on it have been deprecated.\n",
      "\n",
      "Due to the on going maintenance burden of keeping command line application\n",
      "wrappers up to date, we have decided to deprecate and eventually remove these\n",
      "modules.\n",
      "\n",
      "We instead now recommend building your command line and invoking it directly\n",
      "with the subprocess module.\n",
      "  warnings.warn(\n"
     ]
    }
   ],
   "source": [
    "import MDAnalysis as mda\n",
    "from MDAnalysis.analysis import rms, align"
   ]
  },
  {
   "cell_type": "code",
   "execution_count": 2,
   "id": "5deddda5-7cdf-4d22-8029-a081cfc96f7f",
   "metadata": {},
   "outputs": [],
   "source": [
    "system_labels_cg = [\"st\", \"so\", \"tw\", \"lp\"]\n",
    "system_labels = [\"st\", \"so\", \"tw\", \"lp\", \"aa\"]"
   ]
  },
  {
   "cell_type": "code",
   "execution_count": 3,
   "id": "ac5864bb-ac43-40f2-ba46-204d068caf3d",
   "metadata": {
    "tags": []
   },
   "outputs": [],
   "source": [
    "CHAINS = ['0', '1', '2', '3', '4', '5', '6', '7', 'A', 'B', 'C', 'D', 'E', 'F', 'G', 'H', 'I', 'J',\n",
    "          'K', 'L', 'M', 'N', 'O', 'P', 'Q', 'R', 'S', 'T', 'U', 'V', 'W', 'X', 'Y', 'Z', 'a', 'b',\n",
    "          'c', 'd', 'e', 'f', 'g', 'h', 'i', 'j', 'k', 'l', 'm', 'n', 'o', 'p', 'q', 'r', 's', 't',\n",
    "          'u']"
   ]
  },
  {
   "cell_type": "code",
   "execution_count": 4,
   "id": "bb189376-24ef-4529-9d62-095b1af7bc0e",
   "metadata": {
    "tags": []
   },
   "outputs": [],
   "source": [
    "l_subun = ['A', 'B', 'C', 'D', 'E', 'F', 'G', 'H', 'I', 'J', 'K', 'L', 'M', 'N', 'O', 'P', 'Q', 'R', \n",
    "           'S', 'T', 'U', 'V', 'W', 'X', 'Y', 'Z','0', '1', '2', '3', '4', '5', '6', '7',]\n",
    "s_subun = ['a', 'b','c', 'd', 'e', 'f', 'g', 'h', 'i', 'j', 'k', 'l', 'm', 'n', 'o', 'p', 'q', 'r', \n",
    "           's', 't','u']"
   ]
  },
  {
   "cell_type": "code",
   "execution_count": 5,
   "id": "c1f3b2ed-ff74-4ced-adbf-5bb862add258",
   "metadata": {},
   "outputs": [],
   "source": [
    "singlecolor = '#4477AA'"
   ]
  },
  {
   "cell_type": "code",
   "execution_count": 6,
   "id": "b0fa4ad2-48c4-45e2-a27c-7288c9a19782",
   "metadata": {},
   "outputs": [
    {
     "name": "stderr",
     "output_type": "stream",
     "text": [
      "/home/cikhartj/anaconda3/lib/python3.11/site-packages/MDAnalysis/topology/PDBParser.py:346: UserWarning: Unknown element  found for some atoms. These have been given an empty element record. If needed they can be guessed using universe.guess_TopologyAttrs(context='default', to_guess=['elements']).\n",
      "  warnings.warn(wmsg)\n"
     ]
    },
    {
     "name": "stdout",
     "output_type": "stream",
     "text": [
      "st: aligned top -> bottom, RMSD before/after: 16.724 \\AA\n",
      "so: aligned top -> bottom, RMSD before/after: 25.758 \\AA\n",
      "tw: aligned top -> bottom, RMSD before/after: 36.373 \\AA\n",
      "lp: aligned top -> bottom, RMSD before/after: 18.411 \\AA\n"
     ]
    }
   ],
   "source": [
    "def chain_rmsd(u_ref, u_mob, chain_id):\n",
    "\n",
    "    sel_ref = u_ref.select_atoms(f\"(name BB or name BB1) and (chainID {chain_id})\")\n",
    "    sel_mob = u_mob.select_atoms(f\"(name BB or name BB1) and (chainID {chain_id})\")\n",
    "    if sel_ref.n_atoms == 0 or sel_mob.n_atoms == 0:\n",
    "        return np.nan\n",
    "    if sel_ref.n_atoms != sel_mob.n_atoms:\n",
    "        return np.nan\n",
    "\n",
    "    return rms.rmsd(sel_mob.positions, sel_ref.positions)\n",
    "\n",
    "chain_rmsds = {}\n",
    "\n",
    "align_selection = \"name BB or name BB1\"\n",
    "\n",
    "for label in system_labels_cg:\n",
    "    bottom_file = f\"./data/{label}_bottom_avg_0.05.pdb\"\n",
    "    top_file = f\"./data/{label}_top_avg_0.05.pdb\"\n",
    "\n",
    "    u_bottom = mda.Universe(bottom_file)\n",
    "    u_top = mda.Universe(top_file)\n",
    "\n",
    "    rmsd_val, _ = align.alignto(\n",
    "        u_top, u_bottom,\n",
    "        select=align_selection\n",
    "    )\n",
    "\n",
    "    print(f\"{label}: aligned top -> bottom, RMSD before/after: {rmsd_val:.3f} \\AA\")\n",
    "\n",
    "    chain_values_rmsd = []\n",
    "    for ch in CHAINS:\n",
    "        rmsd_value = chain_rmsd(u_top, u_bottom, ch)\n",
    "        chain_values_rmsd.append(rmsd_value/10)\n",
    "\n",
    "    chain_rmsds[label]=chain_values_rmsd"
   ]
  },
  {
   "cell_type": "code",
   "execution_count": 7,
   "id": "34421f98-33ad-4609-a53b-b1b08113e666",
   "metadata": {},
   "outputs": [
    {
     "name": "stdout",
     "output_type": "stream",
     "text": [
      "aa: aligned top -> bottom, RMSD before/after: 29.305 \\AA\n"
     ]
    }
   ],
   "source": [
    "system_labels_aa = ['aa']\n",
    "\n",
    "chain_rmsds_aa = {}\n",
    "\n",
    "align_selection = \"name CA or name P\"\n",
    "def chain_rmsd_aa(u_ref, u_mob, chain_id):\n",
    "    base_sel_ref = u_ref.select_atoms(f\"(name CA or name P) and (chainID {chain_id})\")\n",
    "    base_sel_mob = u_mob.select_atoms(f\"(name CA or name P) and (chainID {chain_id})\")\n",
    "\n",
    "    first_resid_ref = base_sel_ref.residues[0].resid\n",
    "    last_resid_ref  = base_sel_ref.residues[-1].resid\n",
    "\n",
    "    first_resid_mob = base_sel_ref.residues[0].resid\n",
    "    last_resid_mob  = base_sel_ref.residues[-1].resid\n",
    "    \n",
    "    if base_sel_ref.n_atoms == 0 or base_sel_mob.n_atoms == 0:\n",
    "        return np.nan\n",
    "\n",
    "    if chain_id in [\"A\", \"B\", \"a\"]:\n",
    "        sel_ref = base_sel_ref.select_atoms(f\"not (resid {first_resid_ref})\")\n",
    "        sel_mob = base_sel_mob.select_atoms(f\"not (resid {first_resid_mob})\")\n",
    "    else:\n",
    "        sel_ref = base_sel_ref.select_atoms(f\"not (resid {last_resid_ref})\")\n",
    "        sel_mob = base_sel_mob.select_atoms(f\"not (resid {last_resid_mob})\")\n",
    "\n",
    "    if sel_ref.n_atoms == 0 or sel_mob.n_atoms == 0:\n",
    "        return np.nan\n",
    "    if sel_ref.n_atoms != sel_mob.n_atoms:\n",
    "        return np.nan\n",
    "        \n",
    "    return rms.rmsd(sel_mob.positions, sel_ref.positions)\n",
    "for label in system_labels_aa:\n",
    "    bottom_file = f\"./data/{label}_bottom_avg_0.05.pdb\"\n",
    "    top_file = f\"./data/{label}_top_avg_0.05.pdb\"\n",
    "\n",
    "    u_bottom = mda.Universe(bottom_file)\n",
    "    u_top = mda.Universe(top_file)\n",
    "\n",
    "    rmsd_val, _ = align.alignto(\n",
    "        u_top, u_bottom,\n",
    "        select=align_selection\n",
    "    )\n",
    "\n",
    "    print(f\"{label}: aligned top -> bottom, RMSD before/after: {rmsd_val:.3f} \\AA\")\n",
    "\n",
    "    chain_values_rmsd = []\n",
    "    for ch in CHAINS:\n",
    "        rmsd_value = chain_rmsd_aa(u_top, u_bottom, ch)\n",
    "        chain_values_rmsd.append(rmsd_value/10)\n",
    "\n",
    "    chain_rmsds_aa[label]=chain_values_rmsd"
   ]
  },
  {
   "cell_type": "code",
   "execution_count": 8,
   "id": "08d426c4-3a0e-4bbc-8163-5bae81a6759d",
   "metadata": {},
   "outputs": [
    {
     "data": {
      "image/png": "[encoded data removed]",
      "text/plain": [
       "<Figure size 400x100 with 5 Axes>"
      ]
     },
     "metadata": {},
     "output_type": "display_data"
    }
   ],
   "source": [
    "import matplotlib.pyplot as plt\n",
    "import numpy as np\n",
    "fig, axes = plt.subplots(ncols=len(system_labels_cg) + 1, nrows=1, \n",
    "                         figsize=(4.0,1.0),\n",
    "                         sharey=True, sharex=False)\n",
    "plt.rcParams['font.family'] = 'Open Sans'\n",
    "titles = ['STIFF', 'SOFT', 'SOFT2', 'LIMP', 'AA']\n",
    "\n",
    "for i, label in enumerate(system_labels_cg):\n",
    "    ax = axes[i]\n",
    "    yvals = chain_rmsds[label] \n",
    "\n",
    "    pairs = list(zip(yvals, CHAINS))\n",
    "    pairs_sorted = sorted(pairs, key=lambda x: x[0], reverse=True)\n",
    "\n",
    "    yvals_sorted, chains_sorted = zip(*pairs_sorted)\n",
    "\n",
    "    xvals = np.arange(len(yvals_sorted))\n",
    "\n",
    "    ax.bar(xvals[:3], yvals_sorted[:3], color=singlecolor, width=0.75)\n",
    "\n",
    "    ax.set_xticks(xvals[:3])\n",
    "    ax.set_xticklabels(chains_sorted[:3], fontsize=8)\n",
    "    ax.set_xlim(-0.5,2.5)\n",
    "\n",
    "    ax.spines['top'].set_visible(False)\n",
    "    ax.spines['right'].set_visible(False)\n",
    "    ax.tick_params(axis='x', which='major', pad=0.0)\n",
    "    \n",
    "    ax.set_title(f\"{titles[i]}\", fontsize=8)\n",
    "    ax.set_yticks([0,2])\n",
    "\n",
    "\n",
    "ax_aa = axes[-1]\n",
    "yvals_aa = chain_rmsds_aa['aa']\n",
    "pairs_aa = list(zip(yvals_aa, CHAINS))\n",
    "pairs_aa_sorted = sorted(pairs_aa, key=lambda x: x[0], reverse=True)\n",
    "yvals_aa_sorted, chains_aa_sorted = zip(*pairs_aa_sorted)\n",
    "xvals_aa = np.arange(len(yvals_aa_sorted))\n",
    "ax_aa.set_xticks(xvals_aa[:3])\n",
    "\n",
    "axes[0].set_xticklabels([\"uL1\",\"bL9\",\"uS2\"], rotation=45, fontsize=8)\n",
    "axes[1].set_xticklabels([\"uL1\",\"bS6\",\"bL9\"], rotation=45, fontsize=8)\n",
    "axes[2].set_xticklabels([\"uL1\",\"uS7\",\"bL31\"], rotation=45, fontsize=8)\n",
    "axes[3].set_xticklabels([\"bL9\",\"uL1\",\"bS6\"], rotation=45, fontsize=8)\n",
    "axes[4].set_xticklabels([\"uL1\",\"uL10\",\"uS4\"], rotation=45, fontsize=8)\n",
    "\n",
    "ax_aa.bar(xvals_aa[:3], yvals_aa_sorted[:3], color=singlecolor, width=0.75)\n",
    "ax_aa.tick_params(axis='x', which='major', pad=0)\n",
    "\n",
    "axes[0].tick_params(axis='y', which='major', pad=1.5, labelsize=8)\n",
    "\n",
    "ax_aa.spines['top'].set_visible(False)\n",
    "ax_aa.spines['right'].set_visible(False)\n",
    "ax_aa.set_xlim(-0.5,2.5)\n",
    "axes[2].set_xlabel('Chain name', fontsize=8)\n",
    "\n",
    "ax_aa.set_title(\"AA\", fontsize=8)\n",
    "axes[0].set_ylabel(\"RMSD [nm]\", fontsize=8)\n",
    "\n",
    "plt.show()\n",
    "#f...30S r-protein S6;H...50S r-protein L9;b...30S r-protein S2;g...30S r-protein S7;6...50S r-protein L31; 5...50S r-protein L10;d...30S r-protein S4, L1 stalk"
   ]
  },
  {
   "cell_type": "code",
   "execution_count": 9,
   "id": "c5466a95-abc9-412f-9875-658c52a5eb93",
   "metadata": {},
   "outputs": [],
   "source": [
    "def rmsd_total_aa(u_ref, u_mob):\n",
    "    ref_groups = []\n",
    "    mob_groups = []\n",
    "\n",
    "    for chain in CHAINS:\n",
    "        chain_ref = u_ref.select_atoms(f\"(chainID {chain}) and (name CA or name P)\")\n",
    "        chain_mob = u_mob.select_atoms(f\"(chainID {chain}) and (name CA or name P)\")\n",
    "\n",
    "        if chain_ref.n_atoms == 0 or chain_mob.n_atoms == 0:\n",
    "            continue\n",
    "\n",
    "        if chain in [\"A\", \"B\", \"a\"]:\n",
    "            chain_ref = chain_ref[1:]\n",
    "            chain_mob = chain_mob[1:]\n",
    "        else:\n",
    "            chain_ref = chain_ref[:-1]\n",
    "            chain_mob = chain_mob[:-1]\n",
    "\n",
    "        if chain_ref.n_atoms == 0 or chain_mob.n_atoms == 0:\n",
    "            continue\n",
    "\n",
    "        ref_groups.append(chain_ref)\n",
    "        mob_groups.append(chain_mob)\n",
    "\n",
    "    if not ref_groups:\n",
    "        return np.nan\n",
    "\n",
    "    final_ref = sum(ref_groups[1:], ref_groups[0])\n",
    "    final_mob = sum(mob_groups[1:], mob_groups[0])\n",
    "\n",
    "    if final_ref.n_atoms == 0 or final_mob.n_atoms == 0:\n",
    "        return np.nan\n",
    "    if final_ref.n_atoms != final_mob.n_atoms:\n",
    "        return np.nan\n",
    "\n",
    "    return rms.rmsd(final_mob.positions, final_ref.positions)"
   ]
  },
  {
   "cell_type": "code",
   "execution_count": 10,
   "id": "e98d24d8-5463-4a50-aaf8-9afba91585bc",
   "metadata": {},
   "outputs": [
    {
     "name": "stderr",
     "output_type": "stream",
     "text": [
      "/home/cikhartj/anaconda3/lib/python3.11/site-packages/MDAnalysis/topology/PDBParser.py:346: UserWarning: Unknown element  found for some atoms. These have been given an empty element record. If needed they can be guessed using universe.guess_TopologyAttrs(context='default', to_guess=['elements']).\n",
      "  warnings.warn(wmsg)\n"
     ]
    },
    {
     "name": "stdout",
     "output_type": "stream",
     "text": [
      "st: aligned top -> bottom, RMSD before/after: 13.327 \\AA\n",
      "10679\n",
      "so: aligned top -> bottom, RMSD before/after: 20.942 \\AA\n",
      "10679\n",
      "tw: aligned top -> bottom, RMSD before/after: 31.294 \\AA\n",
      "10679\n",
      "lp: aligned top -> bottom, RMSD before/after: 11.860 \\AA\n",
      "10679\n",
      "aa: aligned top -> bottom, RMSD before/after: 19.695 \\AA\n"
     ]
    }
   ],
   "source": [
    "def rmsd_total(u_ref, u_mob):\n",
    "    selection_cg = ' or '.join([f'chainid {chain} and (name BB or name BB1)' for chain in CHAINS])\n",
    "    sel_ref = u_ref.select_atoms(selection_cg)\n",
    "    sel_mob = u_mob.select_atoms(selection_cg)\n",
    "    if sel_ref.n_atoms == 0 or sel_mob.n_atoms == 0:\n",
    "        return np.nan\n",
    "    if sel_ref.n_atoms != sel_mob.n_atoms:\n",
    "        return np.nan\n",
    "    print(len(sel_ref))\n",
    "\n",
    "    return rms.rmsd(sel_mob.positions, sel_ref.positions)\n",
    "    \n",
    "\n",
    "total_rmsds_lsu = {}\n",
    "\n",
    "align_selection_cg = ' or '.join([f'chainid {chain} and (name BB or name BB1)' for chain in s_subun])\n",
    "align_selection_aa = ' or '.join([f'chainid {chain} and (name CA or name P)' for chain in s_subun])\n",
    "\n",
    "for label in system_labels:\n",
    "    bottom_file = f\"./data/{label}_bottom_avg_0.05.pdb\"\n",
    "    top_file = f\"./data/{label}_top_avg_0.05.pdb\"\n",
    "\n",
    "    u_bottom = mda.Universe(bottom_file)\n",
    "    u_top = mda.Universe(top_file)\n",
    "\n",
    "    if label == 'aa':\n",
    "        rmsd_val, _ = rmsd_val, _ = align.alignto(\n",
    "        u_top, u_bottom,\n",
    "        select=align_selection_aa\n",
    "        )\n",
    "        print(f\"{label}: aligned top -> bottom, RMSD before/after: {rmsd_val:.3f} \\AA\")\n",
    "    \n",
    "        total_values_rmsd = []\n",
    "        rmsd_value = rmsd_total_aa(u_top, u_bottom)\n",
    "        total_values_rmsd.append(rmsd_value/10)\n",
    "    \n",
    "        total_rmsds_lsu[label]=total_values_rmsd\n",
    "    else:\n",
    "        rmsd_val, _ = align.alignto(\n",
    "            u_top, u_bottom,\n",
    "            select=align_selection_cg\n",
    "        )\n",
    "\n",
    "        print(f\"{label}: aligned top -> bottom, RMSD before/after: {rmsd_val:.3f} \\AA\")\n",
    "    \n",
    "        total_values_rmsd = []\n",
    "        rmsd_value = rmsd_total(u_top, u_bottom)\n",
    "        total_values_rmsd.append(rmsd_value/10)\n",
    "    \n",
    "        total_rmsds_lsu[label]=total_values_rmsd"
   ]
  },
  {
   "cell_type": "code",
   "execution_count": 11,
   "id": "ca2ff64b-c03d-4d65-b32d-abff281b1075",
   "metadata": {},
   "outputs": [
    {
     "name": "stdout",
     "output_type": "stream",
     "text": [
      "st: aligned top -> bottom, RMSD before/after: 16.724 \\AA\n",
      "10679\n",
      "so: aligned top -> bottom, RMSD before/after: 25.758 \\AA\n",
      "10679\n",
      "tw: aligned top -> bottom, RMSD before/after: 36.373 \\AA\n",
      "10679\n",
      "lp: aligned top -> bottom, RMSD before/after: 18.411 \\AA\n",
      "10679\n",
      "aa: aligned top -> bottom, RMSD before/after: 29.305 \\AA\n"
     ]
    }
   ],
   "source": [
    "total_rmsds = {}\n",
    "\n",
    "align_selection_cg = \"(name BB or name BB1)\"\n",
    "align_selection_aa = \"(name CA or name P)\"\n",
    "\n",
    "for label in system_labels:\n",
    "    bottom_file = f\"./data/{label}_bottom_avg_0.05.pdb\"\n",
    "    top_file = f\"./data/{label}_top_avg_0.05.pdb\"\n",
    "\n",
    "    u_bottom = mda.Universe(bottom_file)\n",
    "    u_top = mda.Universe(top_file)\n",
    "\n",
    "    if label == 'aa':\n",
    "        rmsd_val, _ = rmsd_val, _ = align.alignto(\n",
    "        u_top, u_bottom,\n",
    "        select=align_selection_aa\n",
    "        )\n",
    "        print(f\"{label}: aligned top -> bottom, RMSD before/after: {rmsd_val:.3f} \\AA\")\n",
    "    \n",
    "        total_values_rmsd = []\n",
    "        rmsd_value = rmsd_total_aa(u_top, u_bottom)\n",
    "        total_values_rmsd.append(rmsd_value/10)\n",
    "    \n",
    "        total_rmsds[label]=total_values_rmsd\n",
    "    else:\n",
    "        rmsd_val, _ = align.alignto(\n",
    "            u_top, u_bottom,\n",
    "            select=align_selection_cg\n",
    "        )\n",
    "\n",
    "        print(f\"{label}: aligned top -> bottom, RMSD before/after: {rmsd_val:.3f} \\AA\")\n",
    "    \n",
    "        total_values_rmsd = []\n",
    "        rmsd_value = rmsd_total(u_top, u_bottom)\n",
    "        total_values_rmsd.append(rmsd_value/10)\n",
    "    \n",
    "        total_rmsds[label]=total_values_rmsd"
   ]
  },
  {
   "cell_type": "code",
   "execution_count": 12,
   "id": "20ec4f36-7102-4bad-b46f-846c8cd60e30",
   "metadata": {},
   "outputs": [
    {
     "data": {
      "image/png": "[encoded data removed]",
      "text/plain": [
       "<Figure size 150x100 with 1 Axes>"
      ]
     },
     "metadata": {},
     "output_type": "display_data"
    }
   ],
   "source": [
    "graph_labels=['STIFF','SOFT','SOFT2','LIMP','AA']\n",
    "labels = system_labels\n",
    "fig, ax = plt.subplots(figsize=(1.5,1.0))\n",
    "plt.rcParams['font.family'] = 'Open Sans'\n",
    "pct_increase = []\n",
    "x = np.arange(len(labels))\n",
    "for lbl in labels:\n",
    "    g_val = total_rmsds[lbl][0]\n",
    "    l_val = total_rmsds_lsu[lbl][0]\n",
    "    if g_val == 0:\n",
    "        inc = 0 \n",
    "    else:\n",
    "        inc = (l_val - g_val) / g_val * 100.0\n",
    "    pct_increase.append(inc)\n",
    "\n",
    "bars1 = ax.barh(x, pct_increase, height=0.75,color=singlecolor)\n",
    "for bar in bars1:\n",
    "  ax.text(\n",
    "      bar.get_width() + 1,\n",
    "      bar.get_y() + bar.get_height() / 2,\n",
    "      round(bar.get_width(), 1),\n",
    "      verticalalignment='center',\n",
    "      color=\"black\",\n",
    "      weight='normal',\n",
    "      size=8\n",
    "  )\n",
    "ax.set_yticks(x)\n",
    "ax.invert_yaxis()\n",
    "ax.set_xlim(0,100)\n",
    "ax.set_xticks([0,100])\n",
    "ax.set_xticklabels([0,100], fontsize=8)\n",
    "ax.set_yticklabels(graph_labels, fontsize=8)\n",
    "ax.spines['top'].set_visible(False)\n",
    "ax.spines['right'].set_visible(False)\n",
    "ax.set_xlabel(\"% Increase in RMSD\", fontsize=8)\n",
    "plt.show()"
   ]
  },
  {
   "cell_type": "code",
   "execution_count": null,
   "id": "49438397-ca11-422d-9590-6f44f521b836",
   "metadata": {},
   "outputs": [],
   "source": []
  }
 ],
 "metadata": {
  "kernelspec": {
   "display_name": "Python 3 (ipykernel)",
   "language": "python",
   "name": "python3"
  },
  "language_info": {
   "codemirror_mode": {
    "name": "ipython",
    "version": 3
   },
   "file_extension": ".py",
   "mimetype": "text/x-python",
   "name": "python",
   "nbconvert_exporter": "python",
   "pygments_lexer": "ipython3",
   "version": "3.11.7"
  }
 },
 "nbformat": 4,
 "nbformat_minor": 5
}
