{
 "cells": [
  {
   "cell_type": "code",
   "execution_count": 1,
   "id": "e410604a-35b6-4cdf-a7cc-09e9615f263d",
   "metadata": {
    "editable": true,
    "slideshow": {
     "slide_type": ""
    },
    "tags": []
   },
   "outputs": [],
   "source": [
    "import numpy as np\n",
    "import pandas as pd\n",
    "import matplotlib.pyplot as plt\n",
    "import seaborn as sns\n",
    "plt.rcParams['font.family'] = 'Open Sans'"
   ]
  },
  {
   "cell_type": "code",
   "execution_count": 2,
   "id": "7b016ba3-5383-480e-af43-3641be08176a",
   "metadata": {},
   "outputs": [],
   "source": [
    "l_subun = ['A', 'B', 'C', 'D', 'E', 'F', 'G', 'H', 'I', 'J', 'K', 'L', 'M', 'N', 'O', 'P', 'Q', 'R', \n",
    "           'S', 'T', 'U', 'V', 'W', 'X', 'Y', 'Z','0', '1', '2', '3', '4', '5', '6', '7']\n",
    "s_subun = ['a', 'b','c', 'd', 'e', 'f', 'g', 'h', 'i', 'j', 'k', 'l', 'm', 'n', 'o', 'p', 'q', 'r', \n",
    "           's', 't','u']"
   ]
  },
  {
   "cell_type": "code",
   "execution_count": 3,
   "id": "bd685197-4c27-41df-9245-295bb539266f",
   "metadata": {},
   "outputs": [],
   "source": [
    "socolor1 = '#228833'\n",
    "socolor2 = '#228833'\n",
    "socolor3 = '#228833'\n",
    "socolor4 = '#228833'\n",
    "colorssoft = [socolor1, socolor2, socolor3, socolor4]\n",
    "\n",
    "twcolor1 = '#66CCEE'\n",
    "twcolor2 = '#66CCEE'\n",
    "twcolor3 = '#66CCEE'\n",
    "twcolor4 = '#66CCEE'\n",
    "colorssoft2 = [twcolor1, twcolor2, twcolor3, twcolor4]\n",
    "\n",
    "lpcolor1 = '#EE6677'\n",
    "lpcolor2 = '#EE6677'\n",
    "lpcolor3 = '#EE6677'\n",
    "lpcolor4 = '#EE6677'\n",
    "colorslimp = [lpcolor1, lpcolor2, lpcolor3, lpcolor4]\n",
    "\n",
    "stcolor1 = '#AA3377'\n",
    "stcolor2 = '#AA3377'\n",
    "stcolor3 = '#AA3377'\n",
    "stcolor4 = '#AA3377'\n",
    "colorsstiff = [stcolor1, stcolor2, stcolor3, stcolor4]\n",
    "\n",
    "aacolor1 = '#CCBB44'\n",
    "aacolor2 = '#CCBB44'\n",
    "aacolor3 = '#CCBB44'\n",
    "aacolor4 = '#CCBB44'\n",
    "colorsaa = [aacolor1, aacolor2, aacolor3, aacolor4]"
   ]
  },
  {
   "cell_type": "code",
   "execution_count": 4,
   "id": "0faba681-f310-48ca-90ec-f773feebc937",
   "metadata": {},
   "outputs": [],
   "source": [
    "singlecolor = '#4477AA'"
   ]
  },
  {
   "cell_type": "code",
   "execution_count": 5,
   "id": "1c5f27b2-5738-4fb8-ada9-17eb485a376a",
   "metadata": {},
   "outputs": [],
   "source": [
    "l_proteins = ['0', '1', '2', '3', '4', '5', '6', '7','A','B','C', 'D', 'E', 'F', 'G', 'H', 'I', 'J', 'K', 'L', 'M', 'N', 'O', 'P', 'Q', 'R', \n",
    "           'S', 'T', 'U', 'V', 'W', 'X', 'Y', 'Z']\n",
    "s_proteins = ['a','b','c', 'd', 'e', 'f', 'g', 'h', 'i', 'j', 'k', 'l', 'm', 'n', 'o', 'p', 'q', 'r', \n",
    "           's', 't','u']"
   ]
  },
  {
   "cell_type": "code",
   "execution_count": 6,
   "id": "d6e9b7f5-b776-4c4a-a355-e6a66da3a8ff",
   "metadata": {},
   "outputs": [],
   "source": [
    "NETS = ['STIFF','SOFT','SOFT2','LIMP']"
   ]
  },
  {
   "cell_type": "code",
   "execution_count": 7,
   "id": "60a765d9-7333-42e8-87cc-70e7639d6285",
   "metadata": {},
   "outputs": [],
   "source": [
    "NETS.append('AA')"
   ]
  },
  {
   "cell_type": "code",
   "execution_count": 8,
   "id": "e74af6f0-547c-4e56-919d-2775c244c964",
   "metadata": {},
   "outputs": [],
   "source": [
    "import pandas as pd\n",
    "\n",
    "def load_from_csv(filename):\n",
    "    df = pd.read_csv(filename, index_col=0)  \n",
    "    loaded_dict = {}\n",
    "    for chain in df.columns:\n",
    "        arr = df[chain].values\n",
    "        arr_no_nan = arr[~np.isnan(arr)]     \n",
    "        loaded_dict[chain] = arr_no_nan\n",
    "    return loaded_dict"
   ]
  },
  {
   "cell_type": "code",
   "execution_count": 9,
   "id": "ab677df5-7b43-48d0-997f-6d271ed9af62",
   "metadata": {},
   "outputs": [],
   "source": [
    "prot_rmsf_small_average_stiff = load_from_csv('./data/rmsf_small_average_stiff.csv')\n",
    "prot_rmsf_small_average_soft = load_from_csv('./data/rmsf_small_average_soft.csv')\n",
    "prot_rmsf_small_average_soft2 = load_from_csv('./data/rmsf_small_average_soft2.csv')\n",
    "prot_rmsf_small_average_limp = load_from_csv('./data/rmsf_small_average_limp.csv')\n",
    "prot_rmsf_small_average_aa = load_from_csv('./data/rmsf_small_average_aa.csv')"
   ]
  },
  {
   "cell_type": "code",
   "execution_count": 10,
   "id": "1c3b5bb9-6ba6-4623-a373-ef3e61161fb8",
   "metadata": {},
   "outputs": [],
   "source": [
    "prot_rmsf_large_average_stiff = load_from_csv('./data/rmsf_large_average_stiff.csv')\n",
    "prot_rmsf_large_average_soft = load_from_csv('./data/rmsf_large_average_soft.csv')\n",
    "prot_rmsf_large_average_soft2 = load_from_csv('./data/rmsf_large_average_soft2.csv')\n",
    "prot_rmsf_large_average_limp = load_from_csv('./data/rmsf_large_average_limp.csv')\n",
    "prot_rmsf_large_average_aa = load_from_csv('./data/rmsf_large_average_aa.csv')"
   ]
  },
  {
   "cell_type": "code",
   "execution_count": 11,
   "id": "f4ae4a9f-9de2-4954-b88f-20ff5d2b2596",
   "metadata": {},
   "outputs": [],
   "source": [
    "prot_rmsf_large_average_aa_cut = {}\n",
    "for chain in l_subun:\n",
    "    if chain in ['A','B']:\n",
    "        prot_rmsf_large_average_aa_cut[chain] = prot_rmsf_large_average_aa[chain][1:]\n",
    "    else: \n",
    "        prot_rmsf_large_average_aa_cut[chain] = prot_rmsf_large_average_aa[chain][:-1]"
   ]
  },
  {
   "cell_type": "code",
   "execution_count": 12,
   "id": "a667cc59-b8ba-42bd-b8c7-ccf481b4e7e6",
   "metadata": {},
   "outputs": [],
   "source": [
    "prot_rmsf_small_average_aa_cut = {}\n",
    "for chain in s_subun:\n",
    "    if chain == 'a':\n",
    "        prot_rmsf_small_average_aa_cut[chain] = prot_rmsf_small_average_aa[chain][1:]\n",
    "    else: \n",
    "        prot_rmsf_small_average_aa_cut[chain] = prot_rmsf_small_average_aa[chain][:-1]"
   ]
  },
  {
   "cell_type": "code",
   "execution_count": 13,
   "id": "1be2dad7-9c1d-4335-af70-be1fa36aaa9f",
   "metadata": {},
   "outputs": [],
   "source": [
    "violin_small_stiff = pd.DataFrame(prot_rmsf_small_average_stiff.items(), columns=['CHAINS','STIFF'])\n",
    "violin_small=violin_small_stiff.explode('STIFF')\n",
    "violin_small_soft = pd.DataFrame(prot_rmsf_small_average_soft.items(), columns=['CHAINS','SOFT']).explode('SOFT')\n",
    "violin_small['SOFT'] = violin_small_soft['SOFT'].values\n",
    "violin_small_soft2 = pd.DataFrame(prot_rmsf_small_average_soft2.items(), columns=['CHAINS','SOFT2']).explode('SOFT2')\n",
    "violin_small['SOFT2'] = violin_small_soft2['SOFT2'].values\n",
    "violin_small_limp = pd.DataFrame(prot_rmsf_small_average_limp.items(), columns=['CHAINS','LIMP']).explode('LIMP')\n",
    "violin_small['LIMP'] = violin_small_limp['LIMP'].values\n",
    "\n",
    "violin_small_aa = pd.DataFrame(prot_rmsf_small_average_aa_cut.items(), columns=['CHAINS','AA'])\n",
    "violin_small_aa=violin_small_aa.explode('AA')\n",
    "violin_small['AA'] = violin_small_aa['AA'].values"
   ]
  },
  {
   "cell_type": "code",
   "execution_count": 14,
   "id": "2656cd1f-196d-4186-8b98-1f811ccaf00b",
   "metadata": {},
   "outputs": [],
   "source": [
    "violin_large_stiff = pd.DataFrame(prot_rmsf_large_average_stiff.items(), columns=['CHAINS','STIFF'])\n",
    "violin_large=violin_large_stiff.explode('STIFF')\n",
    "violin_large_soft = pd.DataFrame(prot_rmsf_large_average_soft.items(), columns=['CHAINS','SOFT']).explode('SOFT')\n",
    "violin_large['SOFT'] = violin_large_soft['SOFT'].values\n",
    "violin_large_soft2 = pd.DataFrame(prot_rmsf_large_average_soft2.items(), columns=['CHAINS','SOFT2']).explode('SOFT2')\n",
    "violin_large['SOFT2'] = violin_large_soft2['SOFT2'].values\n",
    "violin_large_limp = pd.DataFrame(prot_rmsf_large_average_limp.items(), columns=['CHAINS','LIMP']).explode('LIMP')\n",
    "violin_large['LIMP'] = violin_large_limp['LIMP'].values\n",
    "\n",
    "violin_large_aa = pd.DataFrame(prot_rmsf_large_average_aa_cut.items(), columns=['CHAINS','AA'])\n",
    "violin_large_aa=violin_large_aa.explode('AA')\n",
    "violin_large['AA'] = violin_large_aa['AA'].values"
   ]
  },
  {
   "cell_type": "code",
   "execution_count": 15,
   "id": "b08368ce-62d8-4e52-898f-5722ae63bdb5",
   "metadata": {},
   "outputs": [],
   "source": [
    "frames = [violin_small,violin_large]"
   ]
  },
  {
   "cell_type": "code",
   "execution_count": 16,
   "id": "202e8af2-4d7d-4ee9-b1a0-0c2ea442d402",
   "metadata": {},
   "outputs": [],
   "source": [
    "violin_all = pd.concat(frames)"
   ]
  },
  {
   "cell_type": "code",
   "execution_count": 17,
   "id": "59276dce-e289-4ec8-825c-20992329f1d4",
   "metadata": {},
   "outputs": [
    {
     "name": "stderr",
     "output_type": "stream",
     "text": [
      "/home/cikhartj/anaconda3/lib/python3.11/site-packages/seaborn/_oldcore.py:1119: FutureWarning: use_inf_as_na option is deprecated and will be removed in a future version. Convert inf values to NaN before operating instead.\n",
      "  with pd.option_context('mode.use_inf_as_na', True):\n",
      "/home/cikhartj/anaconda3/lib/python3.11/site-packages/seaborn/_oldcore.py:1119: FutureWarning: use_inf_as_na option is deprecated and will be removed in a future version. Convert inf values to NaN before operating instead.\n",
      "  with pd.option_context('mode.use_inf_as_na', True):\n",
      "/home/cikhartj/anaconda3/lib/python3.11/site-packages/seaborn/_oldcore.py:1119: FutureWarning: use_inf_as_na option is deprecated and will be removed in a future version. Convert inf values to NaN before operating instead.\n",
      "  with pd.option_context('mode.use_inf_as_na', True):\n",
      "/home/cikhartj/anaconda3/lib/python3.11/site-packages/seaborn/_oldcore.py:1119: FutureWarning: use_inf_as_na option is deprecated and will be removed in a future version. Convert inf values to NaN before operating instead.\n",
      "  with pd.option_context('mode.use_inf_as_na', True):\n",
      "/home/cikhartj/anaconda3/lib/python3.11/site-packages/seaborn/_oldcore.py:1119: FutureWarning: use_inf_as_na option is deprecated and will be removed in a future version. Convert inf values to NaN before operating instead.\n",
      "  with pd.option_context('mode.use_inf_as_na', True):\n",
      "/home/cikhartj/anaconda3/lib/python3.11/site-packages/seaborn/_oldcore.py:1119: FutureWarning: use_inf_as_na option is deprecated and will be removed in a future version. Convert inf values to NaN before operating instead.\n",
      "  with pd.option_context('mode.use_inf_as_na', True):\n",
      "/home/cikhartj/anaconda3/lib/python3.11/site-packages/seaborn/_oldcore.py:1119: FutureWarning: use_inf_as_na option is deprecated and will be removed in a future version. Convert inf values to NaN before operating instead.\n",
      "  with pd.option_context('mode.use_inf_as_na', True):\n",
      "/home/cikhartj/anaconda3/lib/python3.11/site-packages/seaborn/_oldcore.py:1119: FutureWarning: use_inf_as_na option is deprecated and will be removed in a future version. Convert inf values to NaN before operating instead.\n",
      "  with pd.option_context('mode.use_inf_as_na', True):\n"
     ]
    },
    {
     "data": {
      "image/png": "[encoded data removed]",
      "text/plain": [
       "<Figure size 350x100 with 4 Axes>"
      ]
     },
     "metadata": {},
     "output_type": "display_data"
    }
   ],
   "source": [
    "plt.rcParams['font.family'] = 'Open Sans'\n",
    "fig, axs = plt.subplots(ncols=4, figsize=(3.5, 1.0), sharey=True)\n",
    "for i in range(2):\n",
    "    sns.ecdfplot(ax=axs[i], data=violin_all, x='AA', color=aacolor1, linewidth=1.00)\n",
    "    sns.ecdfplot(ax=axs[i], data=violin_all, x=NETS[i], color=singlecolor, linewidth=1.00)\n",
    "    axs[0].set_yticks([0, 1.0])\n",
    "    axs[0].set_yticklabels([0,1], size=8)\n",
    "    axs[i].set_ylabel('Proportion', labelpad=0)\n",
    "    axs[i].set_xticks([0, 2, 4, 6])\n",
    "    axs[i].set_xticklabels([0,2,4,\"\",], size=8)\n",
    "    axs[i].set_ylim(0, 1.1)\n",
    "    axs[i].set_xlim(0, 5.8)\n",
    "    axs[i].axhline(1, color='#BBBBBB', linewidth=0.9, linestyle='dashdot')\n",
    "    axs[i].set_xlabel('RMSF [$\\mathrm{\\AA}$]', fontsize=8)\n",
    "    axs[i].set_title(NETS[i], fontsize=8)\n",
    "    axs[1].tick_params(axis='y', width=0)\n",
    " \n",
    "\n",
    "for i in range(2):\n",
    "    sns.ecdfplot(ax=axs[i + 2], data=violin_all, x='AA', color=aacolor1, linewidth=1.00)\n",
    "    sns.ecdfplot(ax=axs[i + 2], data=violin_all, x=NETS[i + 2], color=singlecolor, linewidth=1.00)\n",
    "    axs[i + 2].set_xticks([0, 2, 4, 6])\n",
    "    axs[i+2].set_xticklabels([0,2,4,\"\",], size=8)\n",
    "    axs[i + 2].set_ylim(0, 1.1)\n",
    "    axs[i + 2].set_xlim(0, 5.8)\n",
    "    axs[i + 2].axhline(1, color='#BBBBBB', linewidth=0.9, linestyle='dashdot')\n",
    "    axs[i + 2].set_xlabel('RMSF [$\\mathrm{\\AA}$]', fontsize=8)\n",
    "    axs[i+2].set_title(NETS[i+2], fontsize=8)\n",
    "    axs[i+2].tick_params(axis='y', width=0)\n",
    "\n",
    "axs[0].set_ylabel('Proportion', labelpad=1, fontsize=8)\n",
    "\n",
    "leg = fig.legend(['AA', 'CG'], handlelength=1.0, handleheight=1.5,ncol=1, fontsize=8)\n",
    "\n",
    "fig.subplots_adjust(left=0.1, right=0.95, bottom=0.2, top=0.95, wspace=0)\n",
    "plt.show()"
   ]
  },
  {
   "cell_type": "code",
   "execution_count": 18,
   "id": "bedebe19-71a9-4649-978f-61aa1c797b6e",
   "metadata": {},
   "outputs": [],
   "source": [
    "from scipy.stats import pearsonr\n",
    "\n",
    "def calculate_pearson_correlation_s(list1, list2, list3, list4, list5):\n",
    "    korel_dict = {}\n",
    "    for i in s_proteins:\n",
    "        if i == 'a':\n",
    "            correlations = []\n",
    "            \n",
    "            correlation1 = pearsonr(list1[i], list5[i][1:])\n",
    "            correlation2 = pearsonr(list2[i], list5[i][1:])\n",
    "            correlation3 = pearsonr(list3[i], list5[i][1:])\n",
    "            correlation4 = pearsonr(list4[i], list5[i][1:])\n",
    "            \n",
    "            correlations.append(correlation1)\n",
    "            correlations.append(correlation2)\n",
    "            correlations.append(correlation3)\n",
    "            correlations.append(correlation4)\n",
    "\n",
    "            korel_dict[i]=correlations\n",
    "        else:\n",
    "            correlations = []\n",
    "            \n",
    "            correlation1 = pearsonr(list1[i], list5[i][:-1])\n",
    "            correlation2 = pearsonr(list2[i], list5[i][:-1])\n",
    "            correlation3 = pearsonr(list3[i], list5[i][:-1])\n",
    "            correlation4 = pearsonr(list4[i], list5[i][:-1])\n",
    "            \n",
    "            correlations.append(correlation1)\n",
    "            correlations.append(correlation2)\n",
    "            correlations.append(correlation3)\n",
    "            correlations.append(correlation4)\n",
    "\n",
    "            korel_dict[i]=correlations\n",
    "            \n",
    "    return korel_dict\n",
    "def calculate_pearson_correlation_l(list1, list2, list3, list4, list5):\n",
    "    korel_dict = {}\n",
    "    for i in l_proteins:\n",
    "        if i in ['A','B']:\n",
    "            correlations = []\n",
    "            \n",
    "            correlation1 = pearsonr(list1[i], list5[i][1:])\n",
    "            correlation2 = pearsonr(list2[i], list5[i][1:])\n",
    "            correlation3 = pearsonr(list3[i], list5[i][1:])\n",
    "            correlation4 = pearsonr(list4[i], list5[i][1:])\n",
    "            \n",
    "            correlations.append(correlation1)\n",
    "            correlations.append(correlation2)\n",
    "            correlations.append(correlation3)\n",
    "            correlations.append(correlation4)\n",
    "    \n",
    "            korel_dict[i]=correlations\n",
    "        else:\n",
    "            correlations = []\n",
    "            \n",
    "            correlation1 = pearsonr(list1[i], list5[i][:-1])\n",
    "            correlation2 = pearsonr(list2[i], list5[i][:-1])\n",
    "            correlation3 = pearsonr(list3[i], list5[i][:-1])\n",
    "            correlation4 = pearsonr(list4[i], list5[i][:-1])\n",
    "            \n",
    "            correlations.append(correlation1)\n",
    "            correlations.append(correlation2)\n",
    "            correlations.append(correlation3)\n",
    "            correlations.append(correlation4)\n",
    "    \n",
    "            korel_dict[i]=correlations\n",
    "    return korel_dict"
   ]
  },
  {
   "cell_type": "code",
   "execution_count": 19,
   "id": "1d43d16c-c62f-461f-b477-92d11a906a86",
   "metadata": {},
   "outputs": [],
   "source": [
    "correl_l = calculate_pearson_correlation_l(prot_rmsf_large_average_stiff, prot_rmsf_large_average_soft, prot_rmsf_large_average_soft2, prot_rmsf_large_average_limp, prot_rmsf_large_average_aa)\n",
    "correl_s = calculate_pearson_correlation_s(prot_rmsf_small_average_stiff, prot_rmsf_small_average_soft, prot_rmsf_small_average_soft2, prot_rmsf_small_average_limp, prot_rmsf_small_average_aa)"
   ]
  },
  {
   "cell_type": "code",
   "execution_count": 20,
   "id": "f03a4270-5891-498f-9d11-63bde0eff8aa",
   "metadata": {},
   "outputs": [],
   "source": [
    "correl_stiff_l = []\n",
    "correl_soft_l = []\n",
    "correl_soft2_l = []\n",
    "correl_limp_l = []\n",
    "for i in l_proteins:\n",
    "    correl_stiff_l.append(correl_l[i][0].statistic)\n",
    "    correl_soft_l.append(correl_l[i][1].statistic)\n",
    "    correl_soft2_l.append(correl_l[i][2].statistic)\n",
    "    correl_limp_l.append(correl_l[i][3].statistic)"
   ]
  },
  {
   "cell_type": "code",
   "execution_count": 21,
   "id": "8539ef48-6e86-4614-bf94-1d618da3d1fd",
   "metadata": {},
   "outputs": [],
   "source": [
    "correl_stiff_s = []\n",
    "correl_soft_s = []\n",
    "correl_soft2_s = []\n",
    "correl_limp_s = []\n",
    "for i in s_proteins:\n",
    "    correl_stiff_s.append(correl_s[i][0].statistic)\n",
    "    correl_soft_s.append(correl_s[i][1].statistic)\n",
    "    correl_soft2_s.append(correl_s[i][2].statistic)\n",
    "    correl_limp_s.append(correl_s[i][3].statistic)"
   ]
  },
  {
   "cell_type": "code",
   "execution_count": 22,
   "id": "d47ada25-6419-49cb-8db7-4a36ffa8c172",
   "metadata": {
    "tags": []
   },
   "outputs": [],
   "source": [
    "def correl_high_per(data_list):\n",
    "    correl_per = []\n",
    "    for j in range(np.size(data_list)):\n",
    "        if data_list[j] >= 0.8:\n",
    "            correl_per.append(1)\n",
    "        else:\n",
    "            correl_per.append(0)\n",
    "    return(correl_per)"
   ]
  },
  {
   "cell_type": "code",
   "execution_count": 23,
   "id": "87231755-67f9-4cc3-913e-06e241035f08",
   "metadata": {
    "tags": []
   },
   "outputs": [],
   "source": [
    "correl_stiff_s_high = correl_high_per(correl_stiff_s)\n",
    "correl_stiff_l_high = correl_high_per(correl_stiff_l)"
   ]
  },
  {
   "cell_type": "code",
   "execution_count": 24,
   "id": "7ad59d32-dbda-4f04-8d57-b3ac1cefff9f",
   "metadata": {
    "tags": []
   },
   "outputs": [],
   "source": [
    "correl_stiff_s_high_per = sum(correl_stiff_s_high)/len(correl_stiff_s_high)*100\n",
    "correl_stiff_l_high_per = sum(correl_stiff_l_high)/len(correl_stiff_l_high)*100"
   ]
  },
  {
   "cell_type": "code",
   "execution_count": 25,
   "id": "477f084b-580e-4cd2-808a-85890ef91af3",
   "metadata": {
    "tags": []
   },
   "outputs": [],
   "source": [
    "correl_soft_s_high = correl_high_per(correl_soft_s)\n",
    "correl_soft_l_high = correl_high_per(correl_soft_l)"
   ]
  },
  {
   "cell_type": "code",
   "execution_count": 26,
   "id": "e7dfcf8a-087b-453d-af1e-6b18e5fa1cee",
   "metadata": {
    "tags": []
   },
   "outputs": [],
   "source": [
    "correl_soft_s_high_per = sum(correl_soft_s_high)/len(correl_soft_s_high)*100\n",
    "correl_soft_l_high_per = sum(correl_soft_l_high)/len(correl_soft_l_high)*100"
   ]
  },
  {
   "cell_type": "code",
   "execution_count": 27,
   "id": "9ae231bc-9c5c-441e-b8a9-d42e9ad8cc37",
   "metadata": {
    "tags": []
   },
   "outputs": [],
   "source": [
    "correl_soft2_s_high = correl_high_per(correl_soft2_s)\n",
    "correl_soft2_l_high = correl_high_per(correl_soft2_l)"
   ]
  },
  {
   "cell_type": "code",
   "execution_count": 28,
   "id": "b668d49e-8872-40b2-84f5-6bcdf0130306",
   "metadata": {
    "tags": []
   },
   "outputs": [],
   "source": [
    "correl_soft2_s_high_per = sum(correl_soft2_s_high)/len(correl_soft2_s_high)*100\n",
    "correl_soft2_l_high_per = sum(correl_soft2_l_high)/len(correl_soft2_l_high)*100"
   ]
  },
  {
   "cell_type": "code",
   "execution_count": 29,
   "id": "d6a8fb02-ce5a-471a-a666-248c0e122859",
   "metadata": {
    "tags": []
   },
   "outputs": [],
   "source": [
    "correl_limp_s_high = correl_high_per(correl_limp_s)\n",
    "correl_limp_l_high = correl_high_per(correl_limp_l)"
   ]
  },
  {
   "cell_type": "code",
   "execution_count": 30,
   "id": "dc6e6493-e6aa-45ea-befc-9c12a4f3ab2c",
   "metadata": {
    "tags": []
   },
   "outputs": [],
   "source": [
    "correl_limp_s_high_per = sum(correl_limp_s_high)/len(correl_limp_s_high)*100\n",
    "correl_limp_l_high_per = sum(correl_limp_l_high)/len(correl_limp_l_high)*100"
   ]
  },
  {
   "cell_type": "code",
   "execution_count": 31,
   "id": "40a39b2b-fc9d-43e8-80ed-942aea6c5426",
   "metadata": {
    "tags": []
   },
   "outputs": [],
   "source": [
    "total_limp_correl_high = correl_limp_l_high+correl_limp_s_high"
   ]
  },
  {
   "cell_type": "code",
   "execution_count": 32,
   "id": "94e7e497-b387-4d5f-8c09-330fa7cc03bd",
   "metadata": {
    "tags": []
   },
   "outputs": [],
   "source": [
    "total_soft2_correl_high= correl_soft2_l_high+correl_soft2_s_high"
   ]
  },
  {
   "cell_type": "code",
   "execution_count": 33,
   "id": "b2caa3aa-ed5b-4a5a-86a3-4625c04024f6",
   "metadata": {
    "tags": []
   },
   "outputs": [],
   "source": [
    "total_soft_correl_high = correl_soft_l_high+correl_soft_s_high"
   ]
  },
  {
   "cell_type": "code",
   "execution_count": 34,
   "id": "876a6925-995e-42d6-990b-08f8d93ba180",
   "metadata": {
    "tags": []
   },
   "outputs": [],
   "source": [
    "total_stiff_correl_high = correl_stiff_l_high+correl_stiff_s_high"
   ]
  },
  {
   "cell_type": "code",
   "execution_count": 35,
   "id": "149ac7de-4baa-4960-8f44-1b1ae21110e9",
   "metadata": {
    "tags": []
   },
   "outputs": [],
   "source": [
    "total_stiff_correl_high_per = sum(total_stiff_correl_high)/len(total_stiff_correl_high)*100\n",
    "total_soft_correl_high_per = sum(total_soft_correl_high)/len(total_soft_correl_high)*100\n",
    "total_soft2_correl_high_per = sum(total_soft2_correl_high)/len(total_soft2_correl_high)*100\n",
    "total_limp_correl_high_per = sum(total_limp_correl_high)/len(total_limp_correl_high)*100"
   ]
  },
  {
   "cell_type": "code",
   "execution_count": 36,
   "id": "97624bf1-207d-4f7a-aa2e-1e0a8c50e703",
   "metadata": {
    "tags": []
   },
   "outputs": [],
   "source": [
    "def correl_07_per(data_list):\n",
    "    correl_per = []\n",
    "    for j in range(np.size(data_list)):\n",
    "        if data_list[j] >= 0.7:\n",
    "            correl_per.append(1)\n",
    "        else:\n",
    "            correl_per.append(0)\n",
    "    return(correl_per)"
   ]
  },
  {
   "cell_type": "code",
   "execution_count": 37,
   "id": "3c5b2309-63a3-49cc-b16c-59f5d9a2290c",
   "metadata": {},
   "outputs": [],
   "source": [
    "def correl_08_per(data_list):\n",
    "    correl_per = []\n",
    "    for j in range(np.size(data_list)):\n",
    "        if data_list[j] >= 0.8:\n",
    "            correl_per.append(1)\n",
    "        else:\n",
    "            correl_per.append(0)\n",
    "    return(correl_per)"
   ]
  },
  {
   "cell_type": "code",
   "execution_count": 38,
   "id": "c17b2339-7e99-46c7-8b13-5661754fc4b3",
   "metadata": {},
   "outputs": [],
   "source": [
    "def correl_neg_low_per(data_list):\n",
    "    correl_per = []\n",
    "    for j in range(np.size(data_list)):\n",
    "        if data_list[j] <= 0.4:\n",
    "            correl_per.append(1)\n",
    "        else:\n",
    "            correl_per.append(0)\n",
    "    return(correl_per)"
   ]
  },
  {
   "cell_type": "code",
   "execution_count": 39,
   "id": "4a39a1e2-6081-4188-a260-6c8eb1a0fd4e",
   "metadata": {
    "tags": []
   },
   "outputs": [],
   "source": [
    "correl_stiff_s_07 = correl_07_per(correl_stiff_s)\n",
    "correl_stiff_l_07 = correl_07_per(correl_stiff_l)"
   ]
  },
  {
   "cell_type": "code",
   "execution_count": 40,
   "id": "f32ea5d8-fe5d-4c79-bef9-99979a0ab329",
   "metadata": {
    "tags": []
   },
   "outputs": [],
   "source": [
    "correl_stiff_s_07_per = sum(correl_stiff_s_07)/len(correl_stiff_s_07)*100\n",
    "correl_stiff_l_07_per = sum(correl_stiff_l_07)/len(correl_stiff_l_07)*100"
   ]
  },
  {
   "cell_type": "code",
   "execution_count": 41,
   "id": "ef51083d-1d5c-4f95-9886-baa19e55146b",
   "metadata": {
    "tags": []
   },
   "outputs": [],
   "source": [
    "correl_soft_s_07 = correl_07_per(correl_soft_s)\n",
    "correl_soft_l_07 = correl_07_per(correl_soft_l)"
   ]
  },
  {
   "cell_type": "code",
   "execution_count": 42,
   "id": "291a80e7-aee7-4218-869a-f92b28d111c1",
   "metadata": {
    "tags": []
   },
   "outputs": [],
   "source": [
    "correl_soft_s_07_per = sum(correl_soft_s_07)/len(correl_soft_s_07)*100\n",
    "correl_soft_l_07_per = sum(correl_soft_l_07)/len(correl_soft_l_07)*100"
   ]
  },
  {
   "cell_type": "code",
   "execution_count": 43,
   "id": "1b3a8b88-e997-4923-8fc7-b3322c2637a9",
   "metadata": {
    "tags": []
   },
   "outputs": [],
   "source": [
    "correl_soft2_s_07 = correl_07_per(correl_soft2_s)\n",
    "correl_soft2_l_07 = correl_07_per(correl_soft2_l)"
   ]
  },
  {
   "cell_type": "code",
   "execution_count": 44,
   "id": "215a533a-28bb-456f-8b25-fc081f110a34",
   "metadata": {
    "tags": []
   },
   "outputs": [],
   "source": [
    "correl_soft2_s_07_per = sum(correl_soft2_s_07)/len(correl_soft2_s_07)*100\n",
    "correl_soft2_l_07_per = sum(correl_soft2_l_07)/len(correl_soft2_l_07)*100"
   ]
  },
  {
   "cell_type": "code",
   "execution_count": 45,
   "id": "dff1e659-61eb-4cac-8c18-f5e158a36ab5",
   "metadata": {
    "tags": []
   },
   "outputs": [],
   "source": [
    "correl_limp_s_07 = correl_07_per(correl_limp_s)\n",
    "correl_limp_l_07 = correl_07_per(correl_limp_l)"
   ]
  },
  {
   "cell_type": "code",
   "execution_count": 46,
   "id": "64b4e753-7172-42d0-8552-a823f04facdb",
   "metadata": {
    "tags": []
   },
   "outputs": [],
   "source": [
    "correl_limp_s_07_per = sum(correl_limp_s_07)/len(correl_limp_s_07)*100\n",
    "correl_limp_l_07_per = sum(correl_limp_l_07)/len(correl_limp_l_07)*100"
   ]
  },
  {
   "cell_type": "code",
   "execution_count": 47,
   "id": "8e2ff09b-3d03-4d55-8c37-a49e25154760",
   "metadata": {
    "tags": []
   },
   "outputs": [],
   "source": [
    "total_limp_correl_07 = correl_limp_l_07+correl_limp_s_07"
   ]
  },
  {
   "cell_type": "code",
   "execution_count": 48,
   "id": "ed06a5c0-f01b-4722-84e7-fd17123d7e51",
   "metadata": {
    "tags": []
   },
   "outputs": [],
   "source": [
    "total_soft2_correl_07 = correl_soft2_l_07+correl_soft2_s_07"
   ]
  },
  {
   "cell_type": "code",
   "execution_count": 49,
   "id": "3091c5e3-0fe2-4a1d-abb1-707a2dbaaf12",
   "metadata": {
    "tags": []
   },
   "outputs": [],
   "source": [
    "total_soft_correl_07 = correl_soft_l_07+correl_soft_s_07"
   ]
  },
  {
   "cell_type": "code",
   "execution_count": 50,
   "id": "a14fac8c-e1c6-4027-b6a1-b54bb7bcee44",
   "metadata": {
    "tags": []
   },
   "outputs": [],
   "source": [
    "total_stiff_correl_07 = correl_stiff_l_07+correl_stiff_s_07"
   ]
  },
  {
   "cell_type": "code",
   "execution_count": 51,
   "id": "71b8fb15-7e84-4156-b5c5-5f40ef81180d",
   "metadata": {
    "tags": []
   },
   "outputs": [],
   "source": [
    "total_stiff_correl_07_per = sum(total_stiff_correl_07)/len(total_stiff_correl_07)*100\n",
    "total_soft_correl_07_per = sum(total_soft_correl_07)/len(total_soft_correl_07)*100\n",
    "total_soft2_correl_07_per = sum(total_soft2_correl_07)/len(total_soft2_correl_07)*100\n",
    "total_limp_correl_07_per = sum(total_limp_correl_07)/len(total_limp_correl_07)*100"
   ]
  },
  {
   "cell_type": "code",
   "execution_count": 52,
   "id": "5fca4f00-b194-47e0-ad63-12958eb9c692",
   "metadata": {
    "tags": []
   },
   "outputs": [],
   "source": [
    "correl_stiff_s_08 = correl_08_per(correl_stiff_s)\n",
    "correl_stiff_l_08 = correl_08_per(correl_stiff_l)"
   ]
  },
  {
   "cell_type": "code",
   "execution_count": 53,
   "id": "644e2147-1889-43a5-9c74-2bbdac9b388f",
   "metadata": {
    "tags": []
   },
   "outputs": [],
   "source": [
    "correl_stiff_s_08_per = sum(correl_stiff_s_08)/len(correl_stiff_s_08)*100\n",
    "correl_stiff_l_08_per = sum(correl_stiff_l_08)/len(correl_stiff_l_08)*100"
   ]
  },
  {
   "cell_type": "code",
   "execution_count": 54,
   "id": "716ba5c2-9aa1-4b7c-b62a-c9eb644619f1",
   "metadata": {
    "tags": []
   },
   "outputs": [],
   "source": [
    "correl_soft_s_08 = correl_08_per(correl_soft_s)\n",
    "correl_soft_l_08 = correl_08_per(correl_soft_l)"
   ]
  },
  {
   "cell_type": "code",
   "execution_count": 55,
   "id": "071ddc5f-2fb3-44f3-ae6d-255351f13d7e",
   "metadata": {
    "tags": []
   },
   "outputs": [],
   "source": [
    "correl_soft_s_08_per = sum(correl_soft_s_08)/len(correl_soft_s_08)*100\n",
    "correl_soft_l_08_per = sum(correl_soft_l_08)/len(correl_soft_l_08)*100"
   ]
  },
  {
   "cell_type": "code",
   "execution_count": 56,
   "id": "2c387042-badb-4b3a-b1c9-e02d624cc3fd",
   "metadata": {
    "tags": []
   },
   "outputs": [],
   "source": [
    "correl_soft2_s_08 = correl_08_per(correl_soft2_s)\n",
    "correl_soft2_l_08 = correl_08_per(correl_soft2_l)"
   ]
  },
  {
   "cell_type": "code",
   "execution_count": 57,
   "id": "de9d600c-e227-4653-96cc-331d7efc292a",
   "metadata": {
    "tags": []
   },
   "outputs": [],
   "source": [
    "correl_soft2_s_08_per = sum(correl_soft2_s_08)/len(correl_soft2_s_08)*100\n",
    "correl_soft2_l_08_per = sum(correl_soft2_l_08)/len(correl_soft2_l_08)*100"
   ]
  },
  {
   "cell_type": "code",
   "execution_count": 58,
   "id": "65404462-1b88-4729-90b8-0f81f1e7b680",
   "metadata": {
    "tags": []
   },
   "outputs": [],
   "source": [
    "correl_limp_s_08 = correl_08_per(correl_limp_s)\n",
    "correl_limp_l_08 = correl_08_per(correl_limp_l)"
   ]
  },
  {
   "cell_type": "code",
   "execution_count": 59,
   "id": "696459f8-b758-4757-b8f9-04154f14db48",
   "metadata": {
    "tags": []
   },
   "outputs": [],
   "source": [
    "correl_limp_s_08_per = sum(correl_limp_s_08)/len(correl_limp_s_08)*100\n",
    "correl_limp_l_08_per = sum(correl_limp_l_08)/len(correl_limp_l_08)*100"
   ]
  },
  {
   "cell_type": "code",
   "execution_count": 60,
   "id": "18a12b8b-7015-405c-83ea-51d80ca409d8",
   "metadata": {
    "tags": []
   },
   "outputs": [],
   "source": [
    "total_limp_correl_08 = correl_limp_l_08+correl_limp_s_08"
   ]
  },
  {
   "cell_type": "code",
   "execution_count": 61,
   "id": "8dd377e2-59a0-496a-8549-51c0b34357d1",
   "metadata": {
    "tags": []
   },
   "outputs": [],
   "source": [
    "total_soft2_correl_08 = correl_soft2_l_08+correl_soft2_s_08"
   ]
  },
  {
   "cell_type": "code",
   "execution_count": 62,
   "id": "92ff8737-ad09-4ebe-8e15-76d5ad2fa592",
   "metadata": {
    "tags": []
   },
   "outputs": [],
   "source": [
    "total_soft_correl_08 = correl_soft_l_08+correl_soft_s_08"
   ]
  },
  {
   "cell_type": "code",
   "execution_count": 63,
   "id": "b1b96d3e-ac56-41b0-978e-64c4768cdcc4",
   "metadata": {
    "tags": []
   },
   "outputs": [],
   "source": [
    "total_stiff_correl_08 = correl_stiff_l_08+correl_stiff_s_08"
   ]
  },
  {
   "cell_type": "code",
   "execution_count": 64,
   "id": "8fcf9375-63eb-43af-92f8-5a6a15fbf412",
   "metadata": {
    "tags": []
   },
   "outputs": [],
   "source": [
    "total_stiff_correl_08_per = sum(total_stiff_correl_08)/len(total_stiff_correl_08)*100\n",
    "total_soft_correl_08_per = sum(total_soft_correl_08)/len(total_soft_correl_08)*100\n",
    "total_soft2_correl_08_per = sum(total_soft2_correl_08)/len(total_soft2_correl_08)*100\n",
    "total_limp_correl_08_per = sum(total_limp_correl_08)/len(total_limp_correl_08)*100"
   ]
  },
  {
   "cell_type": "code",
   "execution_count": 65,
   "id": "9170b33d-56b8-4678-8e19-52819b8b795a",
   "metadata": {
    "tags": []
   },
   "outputs": [],
   "source": [
    "correl_stiff_s_neg_low = correl_neg_low_per(correl_stiff_s)\n",
    "correl_stiff_l_neg_low = correl_neg_low_per(correl_stiff_l)"
   ]
  },
  {
   "cell_type": "code",
   "execution_count": 66,
   "id": "ca817bf1-ab97-4fdc-8bba-be18e479046b",
   "metadata": {
    "tags": []
   },
   "outputs": [],
   "source": [
    "correl_stiff_s_neg_low_per = sum(correl_stiff_s_neg_low)/len(correl_stiff_s_neg_low)*100\n",
    "correl_stiff_l_neg_low_per = sum(correl_stiff_l_neg_low)/len(correl_stiff_l_neg_low)*100"
   ]
  },
  {
   "cell_type": "code",
   "execution_count": 67,
   "id": "dea2959a-c382-48b2-bcdf-a0b34877ef29",
   "metadata": {
    "tags": []
   },
   "outputs": [],
   "source": [
    "correl_soft_s_neg_low = correl_neg_low_per(correl_soft_s)\n",
    "correl_soft_l_neg_low = correl_neg_low_per(correl_soft_l)"
   ]
  },
  {
   "cell_type": "code",
   "execution_count": 68,
   "id": "31cd8745-49f0-40cd-a1e9-66ed6c2b4ed5",
   "metadata": {
    "tags": []
   },
   "outputs": [],
   "source": [
    "correl_soft_s_neg_low_per = sum(correl_soft_s_neg_low)/len(correl_soft_s_neg_low)*100\n",
    "correl_soft_l_neg_low_per = sum(correl_soft_l_neg_low)/len(correl_soft_l_neg_low)*100"
   ]
  },
  {
   "cell_type": "code",
   "execution_count": 69,
   "id": "d801579e-549e-48ff-9817-6871a379607c",
   "metadata": {
    "tags": []
   },
   "outputs": [],
   "source": [
    "correl_soft2_s_neg_low = correl_neg_low_per(correl_soft2_s)\n",
    "correl_soft2_l_neg_low = correl_neg_low_per(correl_soft2_l)"
   ]
  },
  {
   "cell_type": "code",
   "execution_count": 70,
   "id": "e813f153-2144-457c-9b15-cdd99819f5c3",
   "metadata": {
    "tags": []
   },
   "outputs": [],
   "source": [
    "correl_soft2_s_neg_low_per = sum(correl_soft2_s_neg_low)/len(correl_soft2_s_neg_low)*100\n",
    "correl_soft2_l_neg_low_per = sum(correl_soft2_l_neg_low)/len(correl_soft2_l_neg_low)*100"
   ]
  },
  {
   "cell_type": "code",
   "execution_count": 71,
   "id": "554d4158-0880-49fb-89d3-3136b8087eb9",
   "metadata": {
    "tags": []
   },
   "outputs": [],
   "source": [
    "correl_limp_s_neg_low = correl_neg_low_per(correl_limp_s)\n",
    "correl_limp_l_neg_low = correl_neg_low_per(correl_limp_l)"
   ]
  },
  {
   "cell_type": "code",
   "execution_count": 72,
   "id": "b81f3060-9a0a-4279-89ba-a296c2f6c5c8",
   "metadata": {
    "tags": []
   },
   "outputs": [],
   "source": [
    "correl_limp_s_neg_low_per = sum(correl_limp_s_neg_low)/len(correl_limp_s_neg_low)*100\n",
    "correl_limp_l_neg_low_per = sum(correl_limp_l_neg_low)/len(correl_limp_l_neg_low)*100"
   ]
  },
  {
   "cell_type": "code",
   "execution_count": 73,
   "id": "14b798a1-e86c-4d7d-a7f8-dc5e1fadb96d",
   "metadata": {
    "tags": []
   },
   "outputs": [],
   "source": [
    "total_limp_correl_neg = correl_limp_l_neg_low+correl_limp_s_neg_low"
   ]
  },
  {
   "cell_type": "code",
   "execution_count": 74,
   "id": "a060c032-af01-4e2b-8ff6-bc1219265573",
   "metadata": {
    "tags": []
   },
   "outputs": [],
   "source": [
    "total_soft2_correl_neg = correl_soft2_l_neg_low+correl_soft2_s_neg_low"
   ]
  },
  {
   "cell_type": "code",
   "execution_count": 75,
   "id": "0e9f25a5-5e17-405a-9396-6f6f05db0418",
   "metadata": {
    "tags": []
   },
   "outputs": [],
   "source": [
    "total_soft_correl_neg = correl_soft_l_neg_low+correl_soft_s_neg_low"
   ]
  },
  {
   "cell_type": "code",
   "execution_count": 76,
   "id": "66368a8e-15ed-47cd-b98a-95c982adf9f3",
   "metadata": {
    "tags": []
   },
   "outputs": [],
   "source": [
    "total_stiff_correl_neg = correl_stiff_l_neg_low+correl_stiff_s_neg_low"
   ]
  },
  {
   "cell_type": "code",
   "execution_count": 77,
   "id": "8952f425-43ad-403f-b742-e87f2682c8db",
   "metadata": {
    "tags": []
   },
   "outputs": [],
   "source": [
    "total_stiff_correl_neg_per = sum(total_stiff_correl_neg)/len(total_stiff_correl_neg)*100\n",
    "total_soft_correl_neg_per = sum(total_soft_correl_neg)/len(total_soft_correl_neg)*100\n",
    "total_soft2_correl_neg_per = sum(total_soft2_correl_neg)/len(total_soft2_correl_neg)*100\n",
    "total_limp_correl_neg_per = sum(total_limp_correl_neg)/len(total_limp_correl_neg)*100"
   ]
  },
  {
   "cell_type": "code",
   "execution_count": 78,
   "id": "e185f78b-c95d-48c2-81b6-8d3a8f97b863",
   "metadata": {},
   "outputs": [],
   "source": [
    "correl_07_per_s = [correl_stiff_s_07_per, correl_soft_s_07_per, correl_soft2_s_07_per, correl_limp_s_07_per]\n",
    "correl_07_per_l = [correl_stiff_l_07_per, correl_soft_l_07_per, correl_soft2_l_07_per, correl_limp_l_07_per]\n",
    "\n",
    "correl_08_per_s = [correl_stiff_s_08_per, correl_soft_s_08_per, correl_soft2_s_08_per, correl_limp_s_08_per]\n",
    "correl_08_per_l = [correl_stiff_l_08_per, correl_soft_l_08_per, correl_soft2_l_08_per, correl_limp_l_08_per]\n",
    "\n",
    "correl_neg_low_per_s = [correl_stiff_s_neg_low_per, correl_soft_s_neg_low_per, correl_soft2_s_neg_low_per, correl_limp_s_neg_low_per]\n",
    "correl_neg_low_per_l = [correl_stiff_l_neg_low_per, correl_soft_l_neg_low_per, correl_soft2_l_neg_low_per, correl_limp_l_neg_low_per]"
   ]
  },
  {
   "cell_type": "code",
   "execution_count": 89,
   "id": "ee7e2f8f-279d-40e1-ad9f-0cd8421a5efa",
   "metadata": {},
   "outputs": [
    {
     "data": {
      "image/png": "[encoded data removed]",
      "text/plain": [
       "<Figure size 100x100 with 1 Axes>"
      ]
     },
     "metadata": {},
     "output_type": "display_data"
    }
   ],
   "source": [
    "plt.rcParams['font.family'] = 'Open Sans'\n",
    "fig, axs = plt.subplots(figsize=(1.0, 1.0))\n",
    "width = 0.75\n",
    "correl_07_per_s\n",
    "correl_08_per_s\n",
    "NETS=['STIFF', 'SOFT', 'SOFT2', 'LIMP']\n",
    "bar_colors_s = [singlecolor, singlecolor, singlecolor, singlecolor]\n",
    "\n",
    "bars_07 = axs.barh(\n",
    "    NETS, \n",
    "    correl_07_per_s, \n",
    "    height=width, \n",
    "    color='none',           \n",
    "    edgecolor=singlecolor,\n",
    "    hatch='...',\n",
    "    zorder=1,\n",
    "    linewidth=1.0\n",
    ")\n",
    "\n",
    "bars_08 = axs.barh(\n",
    "    NETS, \n",
    "    correl_08_per_s, \n",
    "    height=width, \n",
    "    label=NETS, \n",
    "    color=bar_colors_s, \n",
    "    zorder=0,\n",
    "    linewidth=1.0\n",
    ")\n",
    "\n",
    "bars_neg = axs.barh(\n",
    "    NETS, \n",
    "    correl_neg_low_per_s, \n",
    "    height=width, \n",
    "    label=NETS, \n",
    "    color='red', \n",
    "    hatch='---',\n",
    "    zorder=0,\n",
    "    linewidth=1.0\n",
    ")\n",
    "\n",
    "axs.set_yticks(range(len(NETS)))\n",
    "axs.set_yticklabels(NETS, size=8)\n",
    "axs.set_xlabel(\"Chains [%]\", fontsize=8, labelpad=0)\n",
    "axs.set_xlim(0, 100)\n",
    "axs.set_xticks([0, 50,100])\n",
    "axs.set_xticklabels([0,50,100], size=8)\n",
    "axs.spines['top'].set_visible(False)\n",
    "axs.spines['right'].set_visible(False)\n",
    "axs.set_title('SSU', fontsize=8)\n",
    "plt.show()"
   ]
  },
  {
   "cell_type": "code",
   "execution_count": 90,
   "id": "e41f35b5-a870-4a11-aad2-b55bb46a3538",
   "metadata": {},
   "outputs": [
    {
     "data": {
      "image/png": "[encoded data removed]",
      "text/plain": [
       "<Figure size 100x100 with 1 Axes>"
      ]
     },
     "metadata": {},
     "output_type": "display_data"
    }
   ],
   "source": [
    "plt.rcParams['font.family'] = 'Open Sans'\n",
    "NETS = ['STIFF', 'SOFT', 'SOFT2', 'LIMP']\n",
    "fig, axs = plt.subplots(figsize=(1.0, 1.0))\n",
    "width = 0.75\n",
    "\n",
    "correl_07_per_s\n",
    "correl_08_per_s\n",
    "\n",
    "bar_colors_s = [singlecolor, singlecolor, singlecolor, singlecolor]\n",
    "\n",
    "bars_07 = axs.barh(\n",
    "    NETS, \n",
    "    correl_07_per_l, \n",
    "    height=width, \n",
    "    color='none',\n",
    "    edgecolor=singlecolor,\n",
    "    hatch='...',\n",
    "    zorder=0,\n",
    "    label='PCC ≥ 0.7',\n",
    "    linewidth=1.0\n",
    ")\n",
    "\n",
    "bars_08 = axs.barh(\n",
    "    NETS, \n",
    "    correl_08_per_l, \n",
    "    height=width, \n",
    "    edgecolor=singlecolor,\n",
    "    color=singlecolor,\n",
    "    zorder=1,\n",
    "    label='PCC ≥ 0.8',\n",
    "    linewidth=1.0\n",
    ")\n",
    "\n",
    "bars_neg = axs.barh(\n",
    "    NETS, \n",
    "    correl_neg_low_per_l, \n",
    "    height=width, \n",
    "    edgecolor=singlecolor,\n",
    "    color='white',\n",
    "    hatch='///',\n",
    "    zorder=2,\n",
    "    label='PCC ≤ 0.4',\n",
    "    linewidth=1.0\n",
    ")\n",
    "\n",
    "axs.set_yticks(range(len(NETS)))\n",
    "axs.set_yticklabels(NETS, size=8)\n",
    "axs.set_xlabel(\"Chains [%]\", fontsize=8, labelpad=0)\n",
    "axs.set_xlim(0, 100)\n",
    "axs.set_xticks([0, 50,100])\n",
    "axs.set_xticklabels([0,50,100], size=8)\n",
    "axs.spines['top'].set_visible(False)\n",
    "axs.spines['right'].set_visible(False)\n",
    "axs.set_title('LSU', fontsize=8)\n",
    "\n",
    "# axs.legend(\n",
    "#     fontsize=8,\n",
    "#     frameon=True,\n",
    "#     handlelength=1.0,\n",
    "#     handletextpad=0.5\n",
    "# )\n",
    "plt.show()"
   ]
  },
  {
   "cell_type": "code",
   "execution_count": 81,
   "id": "33307baa-81b7-4bb1-b358-0c4b640bbde0",
   "metadata": {
    "tags": []
   },
   "outputs": [],
   "source": [
    "def Merge(dict1, dict2): \n",
    "    res = dict1 | dict2 \n",
    "    return res "
   ]
  },
  {
   "cell_type": "code",
   "execution_count": 82,
   "id": "f03b031f-1dac-413a-bfdc-599b507a718e",
   "metadata": {
    "tags": []
   },
   "outputs": [],
   "source": [
    "prot_rmsf_average_stiff = Merge(prot_rmsf_small_average_stiff, prot_rmsf_large_average_stiff)"
   ]
  },
  {
   "cell_type": "code",
   "execution_count": 83,
   "id": "07ad06d9-bc93-4683-88e6-3a2d8fa0f4db",
   "metadata": {
    "tags": []
   },
   "outputs": [],
   "source": [
    "prot_rmsf_average_soft = Merge(prot_rmsf_small_average_soft, prot_rmsf_large_average_soft)"
   ]
  },
  {
   "cell_type": "code",
   "execution_count": 84,
   "id": "3dabd0f1-33c7-4a4a-9197-981af756386d",
   "metadata": {
    "tags": []
   },
   "outputs": [],
   "source": [
    "prot_rmsf_average_soft2 = Merge(prot_rmsf_small_average_soft2, prot_rmsf_large_average_soft2)"
   ]
  },
  {
   "cell_type": "code",
   "execution_count": 85,
   "id": "5a8dcdf3-344d-4408-a234-3003a6315605",
   "metadata": {
    "tags": []
   },
   "outputs": [],
   "source": [
    "prot_rmsf_average_limp = Merge(prot_rmsf_small_average_limp, prot_rmsf_large_average_limp)"
   ]
  },
  {
   "cell_type": "code",
   "execution_count": 86,
   "id": "cf1df9ce-795b-4492-b120-4f1e7e63fc2a",
   "metadata": {
    "tags": []
   },
   "outputs": [],
   "source": [
    "prot_rmsf_average_aa = Merge(prot_rmsf_small_average_aa, prot_rmsf_large_average_aa)"
   ]
  },
  {
   "cell_type": "code",
   "execution_count": 87,
   "id": "087d7f9d-962b-4c83-83bd-16acc926d726",
   "metadata": {},
   "outputs": [],
   "source": [
    "pcc_low_chains = ['S', 'B']"
   ]
  },
  {
   "cell_type": "code",
   "execution_count": 88,
   "id": "682cc9eb-6ba0-4d55-ba93-bbaa404de767",
   "metadata": {},
   "outputs": [
    {
     "data": {
      "text/plain": [
       "<matplotlib.legend.Legend at 0x7bb09396e450>"
      ]
     },
     "execution_count": 88,
     "metadata": {},
     "output_type": "execute_result"
    },
    {
     "data": {
      "image/png": "[encoded data removed]",
      "text/plain": [
       "<Figure size 600x100 with 2 Axes>"
      ]
     },
     "metadata": {},
     "output_type": "display_data"
    }
   ],
   "source": [
    "import matplotlib.patches as mpatches\n",
    "plt.rcParams['font.family'] = 'Open Sans'\n",
    "\n",
    "lw = 1.00\n",
    "lsp = 14\n",
    "ls = 18\n",
    "\n",
    "plt.rcParams.update({'font.size': 10})\n",
    "\n",
    "fig, axs = plt.subplots(nrows=1, ncols=2, figsize=(6, 1.0), sharex=False, gridspec_kw={'width_ratios': [1, 1], 'wspace': 0.3})\n",
    "\n",
    "axs = axs.flatten() \n",
    "titles= ['uL22','5S rRNA']\n",
    "axs[0].plot(prot_rmsf_average_aa['S'][:-1], color=aacolor3, label='AA',linewidth=lw)\n",
    "axs[1].plot(prot_rmsf_average_aa['B'][1:], color=aacolor3, label='AA',linewidth=lw)\n",
    "j = 0\n",
    "for i in pcc_low_chains:\n",
    "    axs[j].set_title(titles[j], fontsize=8, fontweight='normal')\n",
    "    axs[j].plot(prot_rmsf_average_stiff[i], color=stcolor1, label='STIFF',linewidth=lw)\n",
    "    axs[j].plot(prot_rmsf_average_soft[i], color=socolor4, label='SOFT',linewidth=lw)\n",
    "    axs[j].plot(prot_rmsf_average_soft2[i], color=twcolor3, label='SOFT2',linewidth=lw)\n",
    "    axs[j].plot(prot_rmsf_average_limp[i], color=lpcolor2, label='LIMP',linewidth=lw)\n",
    "    axs[j].spines['top'].set_visible(False)\n",
    "    axs[j].spines['right'].set_visible(False)\n",
    "    \n",
    "    axs[j].set_xlabel('Residue number', fontsize=8, fontweight='normal')\n",
    "    axs[j].set_ylabel('RMSF [$\\AA$]', fontsize=8, fontweight='normal', labelpad=3)\n",
    "    j += 1\n",
    "axs[0].set_yticks([0.5, 3.5])\n",
    "axs[0].set_yticklabels([0.5,3.5], size=8)\n",
    "axs[0].set_ylim([0.3, 3.5])\n",
    "axs[1].set_yticks([0.5, 3.5])\n",
    "axs[1].set_yticklabels([0.5,3.5], size=8)\n",
    "axs[1].set_ylim([0.3, 3.5])\n",
    "axs[1].set_xticks([0,25,50,75,100])\n",
    "axs[1].set_xticklabels([0,25,50,75,100], size=8)\n",
    "axs[0].set_xticks([0,20,40])\n",
    "axs[0].set_xticklabels([0,20,40], size=8)\n",
    "\n",
    "handles, labels = plt.gca().get_legend_handles_labels()\n",
    "order = [1,2,3,4,0]\n",
    "fig.legend([handles[idx] for idx in order],[labels[idx] for idx in order], handlelength=1.0, handleheight=1.5,ncols=1, fontsize=8)"
   ]
  },
  {
   "cell_type": "code",
   "execution_count": null,
   "id": "4ade4a62-9331-4eda-b618-8dcd043a6e50",
   "metadata": {},
   "outputs": [],
   "source": []
  }
 ],
 "metadata": {
  "kernelspec": {
   "display_name": "Python 3 (ipykernel)",
   "language": "python",
   "name": "python3"
  },
  "language_info": {
   "codemirror_mode": {
    "name": "ipython",
    "version": 3
   },
   "file_extension": ".py",
   "mimetype": "text/x-python",
   "name": "python",
   "nbconvert_exporter": "python",
   "pygments_lexer": "ipython3",
   "version": "3.11.7"
  }
 },
 "nbformat": 4,
 "nbformat_minor": 5
}
